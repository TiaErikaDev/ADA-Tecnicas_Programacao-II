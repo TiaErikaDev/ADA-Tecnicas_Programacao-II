{
  "cells": [
    {
      "cell_type": "markdown",
      "metadata": {
        "id": "view-in-github",
        "colab_type": "text"
      },
      "source": [
        "<a href=\"https://colab.research.google.com/github/TiaErikaDev/ADA-Tecnicas_Programacao-II/blob/main/An%C3%A1lise_Explorat%C3%B3ria_Copa_do_mundo.ipynb\" target=\"_parent\"><img src=\"https://colab.research.google.com/assets/colab-badge.svg\" alt=\"Open In Colab\"/></a>"
      ]
    },
    {
      "cell_type": "markdown",
      "metadata": {
        "id": "SLa4I0DB5n6p"
      },
      "source": [
        "## Comentários do Exercício"
      ]
    },
    {
      "cell_type": "markdown",
      "metadata": {
        "id": "9uMJ75xM5n6t"
      },
      "source": [
        "Em clima de Copa do Mundo, vamos praticar Análise de Dados com o dataset contendo diversas informações sobre todas as partidas da Copa. \n",
        "\n",
        "Gere gráficos para tentar responder as seguintes perguntas:\n",
        "\n",
        "- Quais são os maiores ganhadores da Copa do Mundo?\n",
        "\n",
        "- Quais são as seleções que mais participaram de edições da Copa do Mundo?\n",
        "\n",
        "- Quais são as seleções que mais jogaram na Copa do Mundo?\n",
        "\n",
        "- Quais são as seleções com as maiores quantidades de gols feitos?\n",
        "\n",
        "- Qual é o retrospecto do Brasil na Copa? (Vitória, Empate e Derrota)\n",
        "\n",
        "- Quais foram as partidas com a maior quantidade de gols?\n",
        "\n",
        "- Como a média de espectadores mudou com o passar das edições?\n",
        "\n",
        "- Quais estádios tiveram a maior quantidade de espectadores?\n",
        "\n",
        "Além das perguntas já estabelecidas neste exercício, aproveite para também gerar novas análises que o grupo acredite ser pertinente ao problema. :)"
      ]
    },
    {
      "cell_type": "code",
      "execution_count": 1,
      "metadata": {
        "id": "m8tO4bLP5n6u"
      },
      "outputs": [],
      "source": [
        "import pandas as pd \n",
        "import numpy as np \n",
        "import matplotlib.pyplot as plt"
      ]
    },
    {
      "cell_type": "code",
      "execution_count": 2,
      "metadata": {
        "id": "kz_hT06F5n6w"
      },
      "outputs": [],
      "source": [
        "df = pd.read_csv('https://raw.githubusercontent.com/mdrs-thiago/uerj-topicos-a/main/datasets/WorldCupMatches.csv')"
      ]
    },
    {
      "cell_type": "code",
      "execution_count": 3,
      "metadata": {
        "id": "Gr-VEKXD5n6w",
        "outputId": "858e0137-7b2c-4ceb-ccde-644ede1adf4a",
        "colab": {
          "base_uri": "https://localhost:8080/",
          "height": 730
        }
      },
      "outputs": [
        {
          "output_type": "execute_result",
          "data": {
            "text/plain": [
              "        Year              Datetime        Stage              Stadium  \\\n",
              "836   2014.0  28 Jun 2014 - 13:00   Round of 16     Estadio Mineirao   \n",
              "837   2014.0  28 Jun 2014 - 17:00   Round of 16  Estadio do Maracana   \n",
              "838   2014.0  29 Jun 2014 - 13:00   Round of 16     Estadio Castelao   \n",
              "839   2014.0  29 Jun 2014 - 17:00   Round of 16     Arena Pernambuco   \n",
              "840   2014.0  30 Jun 2014 - 13:00   Round of 16     Estadio Nacional   \n",
              "...      ...                   ...          ...                  ...   \n",
              "4567     NaN                   NaN          NaN                  NaN   \n",
              "4568     NaN                   NaN          NaN                  NaN   \n",
              "4569     NaN                   NaN          NaN                  NaN   \n",
              "4570     NaN                   NaN          NaN                  NaN   \n",
              "4571     NaN                   NaN          NaN                  NaN   \n",
              "\n",
              "                 City Home Team Name  Home Team Goals  Away Team Goals  \\\n",
              "836   Belo Horizonte          Brazil              1.0              1.0   \n",
              "837   Rio De Janeiro        Colombia              2.0              0.0   \n",
              "838        Fortaleza     Netherlands              2.0              1.0   \n",
              "839           Recife      Costa Rica              1.0              1.0   \n",
              "840         Brasilia          France              2.0              0.0   \n",
              "...               ...            ...              ...              ...   \n",
              "4567              NaN            NaN              NaN              NaN   \n",
              "4568              NaN            NaN              NaN              NaN   \n",
              "4569              NaN            NaN              NaN              NaN   \n",
              "4570              NaN            NaN              NaN              NaN   \n",
              "4571              NaN            NaN              NaN              NaN   \n",
              "\n",
              "     Away Team Name                        Win conditions  Attendance  \\\n",
              "836           Chile      Brazil win on penalties (3 - 2)      57714.0   \n",
              "837         Uruguay                                           73804.0   \n",
              "838          Mexico                                           58817.0   \n",
              "839          Greece  Costa Rica win on penalties (5 - 3)      41242.0   \n",
              "840         Nigeria                                           67882.0   \n",
              "...             ...                                   ...         ...   \n",
              "4567            NaN                                   NaN         NaN   \n",
              "4568            NaN                                   NaN         NaN   \n",
              "4569            NaN                                   NaN         NaN   \n",
              "4570            NaN                                   NaN         NaN   \n",
              "4571            NaN                                   NaN         NaN   \n",
              "\n",
              "      Half-time Home Goals  Half-time Away Goals              Referee  \\\n",
              "836                    0.0                   0.0    WEBB Howard (ENG)   \n",
              "837                    1.0                   0.0  Bj�rn KUIPERS (NED)   \n",
              "838                    0.0                   0.0  PROENCA Pedro (POR)   \n",
              "839                    0.0                   0.0   Ben WILLIAMS (AUS)   \n",
              "840                    0.0                   0.0    GEIGER Mark (USA)   \n",
              "...                    ...                   ...                  ...   \n",
              "4567                   NaN                   NaN                  NaN   \n",
              "4568                   NaN                   NaN                  NaN   \n",
              "4569                   NaN                   NaN                  NaN   \n",
              "4570                   NaN                   NaN                  NaN   \n",
              "4571                   NaN                   NaN                  NaN   \n",
              "\n",
              "                  Assistant 1           Assistant 2   RoundID      MatchID  \\\n",
              "836   MULLARKEY Michael (ENG)     Darren CANN (ENG)  255951.0  300186487.0   \n",
              "837   Sander VAN ROEKEL (NED)  Erwin ZEINSTRA (NED)  255951.0  300186491.0   \n",
              "838     MIRANDA Bertino (POR)      TRIGO Jose (POR)  255951.0  300186508.0   \n",
              "839       CREAM Matthew (AUS)      ANAZ Hakan (AUS)  255951.0  300186459.0   \n",
              "840           HURD Sean (USA)    FLETCHER Joe (CAN)  255951.0  300186462.0   \n",
              "...                       ...                   ...       ...          ...   \n",
              "4567                      NaN                   NaN       NaN          NaN   \n",
              "4568                      NaN                   NaN       NaN          NaN   \n",
              "4569                      NaN                   NaN       NaN          NaN   \n",
              "4570                      NaN                   NaN       NaN          NaN   \n",
              "4571                      NaN                   NaN       NaN          NaN   \n",
              "\n",
              "     Home Team Initials Away Team Initials  \n",
              "836                 BRA                CHI  \n",
              "837                 COL                URU  \n",
              "838                 NED                MEX  \n",
              "839                 CRC                GRE  \n",
              "840                 FRA                NGA  \n",
              "...                 ...                ...  \n",
              "4567                NaN                NaN  \n",
              "4568                NaN                NaN  \n",
              "4569                NaN                NaN  \n",
              "4570                NaN                NaN  \n",
              "4571                NaN                NaN  \n",
              "\n",
              "[3735 rows x 20 columns]"
            ],
            "text/html": [
              "\n",
              "  <div id=\"df-d8ad039b-c815-4fd3-8d75-9f51534618f4\">\n",
              "    <div class=\"colab-df-container\">\n",
              "      <div>\n",
              "<style scoped>\n",
              "    .dataframe tbody tr th:only-of-type {\n",
              "        vertical-align: middle;\n",
              "    }\n",
              "\n",
              "    .dataframe tbody tr th {\n",
              "        vertical-align: top;\n",
              "    }\n",
              "\n",
              "    .dataframe thead th {\n",
              "        text-align: right;\n",
              "    }\n",
              "</style>\n",
              "<table border=\"1\" class=\"dataframe\">\n",
              "  <thead>\n",
              "    <tr style=\"text-align: right;\">\n",
              "      <th></th>\n",
              "      <th>Year</th>\n",
              "      <th>Datetime</th>\n",
              "      <th>Stage</th>\n",
              "      <th>Stadium</th>\n",
              "      <th>City</th>\n",
              "      <th>Home Team Name</th>\n",
              "      <th>Home Team Goals</th>\n",
              "      <th>Away Team Goals</th>\n",
              "      <th>Away Team Name</th>\n",
              "      <th>Win conditions</th>\n",
              "      <th>Attendance</th>\n",
              "      <th>Half-time Home Goals</th>\n",
              "      <th>Half-time Away Goals</th>\n",
              "      <th>Referee</th>\n",
              "      <th>Assistant 1</th>\n",
              "      <th>Assistant 2</th>\n",
              "      <th>RoundID</th>\n",
              "      <th>MatchID</th>\n",
              "      <th>Home Team Initials</th>\n",
              "      <th>Away Team Initials</th>\n",
              "    </tr>\n",
              "  </thead>\n",
              "  <tbody>\n",
              "    <tr>\n",
              "      <th>836</th>\n",
              "      <td>2014.0</td>\n",
              "      <td>28 Jun 2014 - 13:00</td>\n",
              "      <td>Round of 16</td>\n",
              "      <td>Estadio Mineirao</td>\n",
              "      <td>Belo Horizonte</td>\n",
              "      <td>Brazil</td>\n",
              "      <td>1.0</td>\n",
              "      <td>1.0</td>\n",
              "      <td>Chile</td>\n",
              "      <td>Brazil win on penalties (3 - 2)</td>\n",
              "      <td>57714.0</td>\n",
              "      <td>0.0</td>\n",
              "      <td>0.0</td>\n",
              "      <td>WEBB Howard (ENG)</td>\n",
              "      <td>MULLARKEY Michael (ENG)</td>\n",
              "      <td>Darren CANN (ENG)</td>\n",
              "      <td>255951.0</td>\n",
              "      <td>300186487.0</td>\n",
              "      <td>BRA</td>\n",
              "      <td>CHI</td>\n",
              "    </tr>\n",
              "    <tr>\n",
              "      <th>837</th>\n",
              "      <td>2014.0</td>\n",
              "      <td>28 Jun 2014 - 17:00</td>\n",
              "      <td>Round of 16</td>\n",
              "      <td>Estadio do Maracana</td>\n",
              "      <td>Rio De Janeiro</td>\n",
              "      <td>Colombia</td>\n",
              "      <td>2.0</td>\n",
              "      <td>0.0</td>\n",
              "      <td>Uruguay</td>\n",
              "      <td></td>\n",
              "      <td>73804.0</td>\n",
              "      <td>1.0</td>\n",
              "      <td>0.0</td>\n",
              "      <td>Bj�rn KUIPERS (NED)</td>\n",
              "      <td>Sander VAN ROEKEL (NED)</td>\n",
              "      <td>Erwin ZEINSTRA (NED)</td>\n",
              "      <td>255951.0</td>\n",
              "      <td>300186491.0</td>\n",
              "      <td>COL</td>\n",
              "      <td>URU</td>\n",
              "    </tr>\n",
              "    <tr>\n",
              "      <th>838</th>\n",
              "      <td>2014.0</td>\n",
              "      <td>29 Jun 2014 - 13:00</td>\n",
              "      <td>Round of 16</td>\n",
              "      <td>Estadio Castelao</td>\n",
              "      <td>Fortaleza</td>\n",
              "      <td>Netherlands</td>\n",
              "      <td>2.0</td>\n",
              "      <td>1.0</td>\n",
              "      <td>Mexico</td>\n",
              "      <td></td>\n",
              "      <td>58817.0</td>\n",
              "      <td>0.0</td>\n",
              "      <td>0.0</td>\n",
              "      <td>PROENCA Pedro (POR)</td>\n",
              "      <td>MIRANDA Bertino (POR)</td>\n",
              "      <td>TRIGO Jose (POR)</td>\n",
              "      <td>255951.0</td>\n",
              "      <td>300186508.0</td>\n",
              "      <td>NED</td>\n",
              "      <td>MEX</td>\n",
              "    </tr>\n",
              "    <tr>\n",
              "      <th>839</th>\n",
              "      <td>2014.0</td>\n",
              "      <td>29 Jun 2014 - 17:00</td>\n",
              "      <td>Round of 16</td>\n",
              "      <td>Arena Pernambuco</td>\n",
              "      <td>Recife</td>\n",
              "      <td>Costa Rica</td>\n",
              "      <td>1.0</td>\n",
              "      <td>1.0</td>\n",
              "      <td>Greece</td>\n",
              "      <td>Costa Rica win on penalties (5 - 3)</td>\n",
              "      <td>41242.0</td>\n",
              "      <td>0.0</td>\n",
              "      <td>0.0</td>\n",
              "      <td>Ben WILLIAMS (AUS)</td>\n",
              "      <td>CREAM Matthew (AUS)</td>\n",
              "      <td>ANAZ Hakan (AUS)</td>\n",
              "      <td>255951.0</td>\n",
              "      <td>300186459.0</td>\n",
              "      <td>CRC</td>\n",
              "      <td>GRE</td>\n",
              "    </tr>\n",
              "    <tr>\n",
              "      <th>840</th>\n",
              "      <td>2014.0</td>\n",
              "      <td>30 Jun 2014 - 13:00</td>\n",
              "      <td>Round of 16</td>\n",
              "      <td>Estadio Nacional</td>\n",
              "      <td>Brasilia</td>\n",
              "      <td>France</td>\n",
              "      <td>2.0</td>\n",
              "      <td>0.0</td>\n",
              "      <td>Nigeria</td>\n",
              "      <td></td>\n",
              "      <td>67882.0</td>\n",
              "      <td>0.0</td>\n",
              "      <td>0.0</td>\n",
              "      <td>GEIGER Mark (USA)</td>\n",
              "      <td>HURD Sean (USA)</td>\n",
              "      <td>FLETCHER Joe (CAN)</td>\n",
              "      <td>255951.0</td>\n",
              "      <td>300186462.0</td>\n",
              "      <td>FRA</td>\n",
              "      <td>NGA</td>\n",
              "    </tr>\n",
              "    <tr>\n",
              "      <th>...</th>\n",
              "      <td>...</td>\n",
              "      <td>...</td>\n",
              "      <td>...</td>\n",
              "      <td>...</td>\n",
              "      <td>...</td>\n",
              "      <td>...</td>\n",
              "      <td>...</td>\n",
              "      <td>...</td>\n",
              "      <td>...</td>\n",
              "      <td>...</td>\n",
              "      <td>...</td>\n",
              "      <td>...</td>\n",
              "      <td>...</td>\n",
              "      <td>...</td>\n",
              "      <td>...</td>\n",
              "      <td>...</td>\n",
              "      <td>...</td>\n",
              "      <td>...</td>\n",
              "      <td>...</td>\n",
              "      <td>...</td>\n",
              "    </tr>\n",
              "    <tr>\n",
              "      <th>4567</th>\n",
              "      <td>NaN</td>\n",
              "      <td>NaN</td>\n",
              "      <td>NaN</td>\n",
              "      <td>NaN</td>\n",
              "      <td>NaN</td>\n",
              "      <td>NaN</td>\n",
              "      <td>NaN</td>\n",
              "      <td>NaN</td>\n",
              "      <td>NaN</td>\n",
              "      <td>NaN</td>\n",
              "      <td>NaN</td>\n",
              "      <td>NaN</td>\n",
              "      <td>NaN</td>\n",
              "      <td>NaN</td>\n",
              "      <td>NaN</td>\n",
              "      <td>NaN</td>\n",
              "      <td>NaN</td>\n",
              "      <td>NaN</td>\n",
              "      <td>NaN</td>\n",
              "      <td>NaN</td>\n",
              "    </tr>\n",
              "    <tr>\n",
              "      <th>4568</th>\n",
              "      <td>NaN</td>\n",
              "      <td>NaN</td>\n",
              "      <td>NaN</td>\n",
              "      <td>NaN</td>\n",
              "      <td>NaN</td>\n",
              "      <td>NaN</td>\n",
              "      <td>NaN</td>\n",
              "      <td>NaN</td>\n",
              "      <td>NaN</td>\n",
              "      <td>NaN</td>\n",
              "      <td>NaN</td>\n",
              "      <td>NaN</td>\n",
              "      <td>NaN</td>\n",
              "      <td>NaN</td>\n",
              "      <td>NaN</td>\n",
              "      <td>NaN</td>\n",
              "      <td>NaN</td>\n",
              "      <td>NaN</td>\n",
              "      <td>NaN</td>\n",
              "      <td>NaN</td>\n",
              "    </tr>\n",
              "    <tr>\n",
              "      <th>4569</th>\n",
              "      <td>NaN</td>\n",
              "      <td>NaN</td>\n",
              "      <td>NaN</td>\n",
              "      <td>NaN</td>\n",
              "      <td>NaN</td>\n",
              "      <td>NaN</td>\n",
              "      <td>NaN</td>\n",
              "      <td>NaN</td>\n",
              "      <td>NaN</td>\n",
              "      <td>NaN</td>\n",
              "      <td>NaN</td>\n",
              "      <td>NaN</td>\n",
              "      <td>NaN</td>\n",
              "      <td>NaN</td>\n",
              "      <td>NaN</td>\n",
              "      <td>NaN</td>\n",
              "      <td>NaN</td>\n",
              "      <td>NaN</td>\n",
              "      <td>NaN</td>\n",
              "      <td>NaN</td>\n",
              "    </tr>\n",
              "    <tr>\n",
              "      <th>4570</th>\n",
              "      <td>NaN</td>\n",
              "      <td>NaN</td>\n",
              "      <td>NaN</td>\n",
              "      <td>NaN</td>\n",
              "      <td>NaN</td>\n",
              "      <td>NaN</td>\n",
              "      <td>NaN</td>\n",
              "      <td>NaN</td>\n",
              "      <td>NaN</td>\n",
              "      <td>NaN</td>\n",
              "      <td>NaN</td>\n",
              "      <td>NaN</td>\n",
              "      <td>NaN</td>\n",
              "      <td>NaN</td>\n",
              "      <td>NaN</td>\n",
              "      <td>NaN</td>\n",
              "      <td>NaN</td>\n",
              "      <td>NaN</td>\n",
              "      <td>NaN</td>\n",
              "      <td>NaN</td>\n",
              "    </tr>\n",
              "    <tr>\n",
              "      <th>4571</th>\n",
              "      <td>NaN</td>\n",
              "      <td>NaN</td>\n",
              "      <td>NaN</td>\n",
              "      <td>NaN</td>\n",
              "      <td>NaN</td>\n",
              "      <td>NaN</td>\n",
              "      <td>NaN</td>\n",
              "      <td>NaN</td>\n",
              "      <td>NaN</td>\n",
              "      <td>NaN</td>\n",
              "      <td>NaN</td>\n",
              "      <td>NaN</td>\n",
              "      <td>NaN</td>\n",
              "      <td>NaN</td>\n",
              "      <td>NaN</td>\n",
              "      <td>NaN</td>\n",
              "      <td>NaN</td>\n",
              "      <td>NaN</td>\n",
              "      <td>NaN</td>\n",
              "      <td>NaN</td>\n",
              "    </tr>\n",
              "  </tbody>\n",
              "</table>\n",
              "<p>3735 rows × 20 columns</p>\n",
              "</div>\n",
              "      <button class=\"colab-df-convert\" onclick=\"convertToInteractive('df-d8ad039b-c815-4fd3-8d75-9f51534618f4')\"\n",
              "              title=\"Convert this dataframe to an interactive table.\"\n",
              "              style=\"display:none;\">\n",
              "        \n",
              "  <svg xmlns=\"http://www.w3.org/2000/svg\" height=\"24px\"viewBox=\"0 0 24 24\"\n",
              "       width=\"24px\">\n",
              "    <path d=\"M0 0h24v24H0V0z\" fill=\"none\"/>\n",
              "    <path d=\"M18.56 5.44l.94 2.06.94-2.06 2.06-.94-2.06-.94-.94-2.06-.94 2.06-2.06.94zm-11 1L8.5 8.5l.94-2.06 2.06-.94-2.06-.94L8.5 2.5l-.94 2.06-2.06.94zm10 10l.94 2.06.94-2.06 2.06-.94-2.06-.94-.94-2.06-.94 2.06-2.06.94z\"/><path d=\"M17.41 7.96l-1.37-1.37c-.4-.4-.92-.59-1.43-.59-.52 0-1.04.2-1.43.59L10.3 9.45l-7.72 7.72c-.78.78-.78 2.05 0 2.83L4 21.41c.39.39.9.59 1.41.59.51 0 1.02-.2 1.41-.59l7.78-7.78 2.81-2.81c.8-.78.8-2.07 0-2.86zM5.41 20L4 18.59l7.72-7.72 1.47 1.35L5.41 20z\"/>\n",
              "  </svg>\n",
              "      </button>\n",
              "      \n",
              "  <style>\n",
              "    .colab-df-container {\n",
              "      display:flex;\n",
              "      flex-wrap:wrap;\n",
              "      gap: 12px;\n",
              "    }\n",
              "\n",
              "    .colab-df-convert {\n",
              "      background-color: #E8F0FE;\n",
              "      border: none;\n",
              "      border-radius: 50%;\n",
              "      cursor: pointer;\n",
              "      display: none;\n",
              "      fill: #1967D2;\n",
              "      height: 32px;\n",
              "      padding: 0 0 0 0;\n",
              "      width: 32px;\n",
              "    }\n",
              "\n",
              "    .colab-df-convert:hover {\n",
              "      background-color: #E2EBFA;\n",
              "      box-shadow: 0px 1px 2px rgba(60, 64, 67, 0.3), 0px 1px 3px 1px rgba(60, 64, 67, 0.15);\n",
              "      fill: #174EA6;\n",
              "    }\n",
              "\n",
              "    [theme=dark] .colab-df-convert {\n",
              "      background-color: #3B4455;\n",
              "      fill: #D2E3FC;\n",
              "    }\n",
              "\n",
              "    [theme=dark] .colab-df-convert:hover {\n",
              "      background-color: #434B5C;\n",
              "      box-shadow: 0px 1px 3px 1px rgba(0, 0, 0, 0.15);\n",
              "      filter: drop-shadow(0px 1px 2px rgba(0, 0, 0, 0.3));\n",
              "      fill: #FFFFFF;\n",
              "    }\n",
              "  </style>\n",
              "\n",
              "      <script>\n",
              "        const buttonEl =\n",
              "          document.querySelector('#df-d8ad039b-c815-4fd3-8d75-9f51534618f4 button.colab-df-convert');\n",
              "        buttonEl.style.display =\n",
              "          google.colab.kernel.accessAllowed ? 'block' : 'none';\n",
              "\n",
              "        async function convertToInteractive(key) {\n",
              "          const element = document.querySelector('#df-d8ad039b-c815-4fd3-8d75-9f51534618f4');\n",
              "          const dataTable =\n",
              "            await google.colab.kernel.invokeFunction('convertToInteractive',\n",
              "                                                     [key], {});\n",
              "          if (!dataTable) return;\n",
              "\n",
              "          const docLinkHtml = 'Like what you see? Visit the ' +\n",
              "            '<a target=\"_blank\" href=https://colab.research.google.com/notebooks/data_table.ipynb>data table notebook</a>'\n",
              "            + ' to learn more about interactive tables.';\n",
              "          element.innerHTML = '';\n",
              "          dataTable['output_type'] = 'display_data';\n",
              "          await google.colab.output.renderOutput(dataTable, element);\n",
              "          const docLink = document.createElement('div');\n",
              "          docLink.innerHTML = docLinkHtml;\n",
              "          element.appendChild(docLink);\n",
              "        }\n",
              "      </script>\n",
              "    </div>\n",
              "  </div>\n",
              "  "
            ]
          },
          "metadata": {},
          "execution_count": 3
        }
      ],
      "source": [
        "#Existem dados duplicados (Copa 2014) e vários valores 'vazios'. O melhor a se fazer é remover essas linhas duplicadas.\n",
        "df[df.duplicated()]"
      ]
    },
    {
      "cell_type": "code",
      "execution_count": 4,
      "metadata": {
        "id": "yJkjWJwq5n6x"
      },
      "outputs": [],
      "source": [
        "#Retiramos duplicatas.\n",
        "df.drop_duplicates(inplace=True)\n",
        "\n",
        "#Precisamos também tirar a última linha.\n",
        "df = df.iloc[:-1,:]"
      ]
    },
    {
      "cell_type": "code",
      "execution_count": 5,
      "metadata": {
        "id": "_MLlyIpd5n6y",
        "outputId": "ac153426-e510-490f-e7ea-b391ec5bbf6c",
        "colab": {
          "base_uri": "https://localhost:8080/",
          "height": 904
        }
      },
      "outputs": [
        {
          "output_type": "execute_result",
          "data": {
            "text/plain": [
              "       Year              Datetime           Stage             Stadium  \\\n",
              "0    1930.0  13 Jul 1930 - 15:00          Group 1             Pocitos   \n",
              "1    1930.0  13 Jul 1930 - 15:00          Group 4      Parque Central   \n",
              "2    1930.0  14 Jul 1930 - 12:45          Group 2      Parque Central   \n",
              "3    1930.0  14 Jul 1930 - 14:50          Group 3             Pocitos   \n",
              "4    1930.0  15 Jul 1930 - 16:00          Group 1      Parque Central   \n",
              "..      ...                   ...             ...                 ...   \n",
              "831  2014.0  05 Jul 2014 - 13:00   Quarter-finals    Estadio Nacional   \n",
              "832  2014.0  29 Jun 2014 - 13:00      Round of 16    Estadio Castelao   \n",
              "833  2014.0  29 Jun 2014 - 17:00      Round of 16    Arena Pernambuco   \n",
              "834  2014.0  01 Jul 2014 - 13:00      Round of 16  Arena de Sao Paulo   \n",
              "835  2014.0  01 Jul 2014 - 17:00      Round of 16    Arena Fonte Nova   \n",
              "\n",
              "            City Home Team Name  Home Team Goals  Away Team Goals  \\\n",
              "0    Montevideo          France              4.0              1.0   \n",
              "1    Montevideo             USA              3.0              0.0   \n",
              "2    Montevideo      Yugoslavia              2.0              1.0   \n",
              "3    Montevideo         Romania              3.0              1.0   \n",
              "4    Montevideo       Argentina              1.0              0.0   \n",
              "..           ...            ...              ...              ...   \n",
              "831    Brasilia       Argentina              1.0              0.0   \n",
              "832   Fortaleza     Netherlands              2.0              1.0   \n",
              "833      Recife      Costa Rica              1.0              1.0   \n",
              "834   Sao Paulo       Argentina              1.0              0.0   \n",
              "835    Salvador         Belgium              2.0              1.0   \n",
              "\n",
              "    Away Team Name                        Win conditions  Attendance  \\\n",
              "0           Mexico                                            4444.0   \n",
              "1          Belgium                                           18346.0   \n",
              "2           Brazil                                           24059.0   \n",
              "3             Peru                                            2549.0   \n",
              "4           France                                           23409.0   \n",
              "..             ...                                   ...         ...   \n",
              "831        Belgium                                           68551.0   \n",
              "832         Mexico                                           58817.0   \n",
              "833         Greece  Costa Rica win on penalties (5 - 3)      41242.0   \n",
              "834    Switzerland       Argentina win after extra time      63255.0   \n",
              "835            USA         Belgium win after extra time      51227.0   \n",
              "\n",
              "     Half-time Home Goals  Half-time Away Goals                 Referee  \\\n",
              "0                     3.0                   0.0  LOMBARDI Domingo (URU)   \n",
              "1                     2.0                   0.0       MACIAS Jose (ARG)   \n",
              "2                     2.0                   0.0     TEJADA Anibal (URU)   \n",
              "3                     1.0                   0.0   WARNKEN Alberto (CHI)   \n",
              "4                     0.0                   0.0     REGO Gilberto (BRA)   \n",
              "..                    ...                   ...                     ...   \n",
              "831                   1.0                   0.0    Nicola RIZZOLI (ITA)   \n",
              "832                   0.0                   0.0     PROENCA Pedro (POR)   \n",
              "833                   0.0                   0.0      Ben WILLIAMS (AUS)   \n",
              "834                   0.0                   0.0    ERIKSSON Jonas (SWE)   \n",
              "835                   0.0                   0.0   HAIMOUDI Djamel (ALG)   \n",
              "\n",
              "                  Assistant 1                 Assistant 2   RoundID  \\\n",
              "0       CRISTOPHE Henry (BEL)         REGO Gilberto (BRA)     201.0   \n",
              "1    MATEUCCI Francisco (URU)       WARNKEN Alberto (CHI)     201.0   \n",
              "2     VALLARINO Ricardo (URU)         BALWAY Thomas (FRA)     201.0   \n",
              "3         LANGENUS Jean (BEL)    MATEUCCI Francisco (URU)     201.0   \n",
              "4        SAUCEDO Ulises (BOL)  RADULESCU Constantin (ROU)     201.0   \n",
              "..                        ...                         ...       ...   \n",
              "831     Renato FAVERANI (ITA)        Andrea STEFANI (ITA)  255953.0   \n",
              "832     MIRANDA Bertino (POR)            TRIGO Jose (POR)  255951.0   \n",
              "833       CREAM Matthew (AUS)            ANAZ Hakan (AUS)  255951.0   \n",
              "834   KLASENIUS Mathias (SWE)       WARNMARK Daniel (SWE)  255951.0   \n",
              "835      ACHIK Redouane (MAR)     ETCHIALI Abdelhak (ALG)  255951.0   \n",
              "\n",
              "         MatchID Home Team Initials Away Team Initials  \n",
              "0         1096.0                FRA                MEX  \n",
              "1         1090.0                USA                BEL  \n",
              "2         1093.0                YUG                BRA  \n",
              "3         1098.0                ROU                PER  \n",
              "4         1085.0                ARG                FRA  \n",
              "..           ...                ...                ...  \n",
              "831  300186504.0                ARG                BEL  \n",
              "832  300186508.0                NED                MEX  \n",
              "833  300186459.0                CRC                GRE  \n",
              "834  300186503.0                ARG                SUI  \n",
              "835  300186497.0                BEL                USA  \n",
              "\n",
              "[836 rows x 20 columns]"
            ],
            "text/html": [
              "\n",
              "  <div id=\"df-a80c61e7-e054-4b83-abca-5eb69c0f81cb\">\n",
              "    <div class=\"colab-df-container\">\n",
              "      <div>\n",
              "<style scoped>\n",
              "    .dataframe tbody tr th:only-of-type {\n",
              "        vertical-align: middle;\n",
              "    }\n",
              "\n",
              "    .dataframe tbody tr th {\n",
              "        vertical-align: top;\n",
              "    }\n",
              "\n",
              "    .dataframe thead th {\n",
              "        text-align: right;\n",
              "    }\n",
              "</style>\n",
              "<table border=\"1\" class=\"dataframe\">\n",
              "  <thead>\n",
              "    <tr style=\"text-align: right;\">\n",
              "      <th></th>\n",
              "      <th>Year</th>\n",
              "      <th>Datetime</th>\n",
              "      <th>Stage</th>\n",
              "      <th>Stadium</th>\n",
              "      <th>City</th>\n",
              "      <th>Home Team Name</th>\n",
              "      <th>Home Team Goals</th>\n",
              "      <th>Away Team Goals</th>\n",
              "      <th>Away Team Name</th>\n",
              "      <th>Win conditions</th>\n",
              "      <th>Attendance</th>\n",
              "      <th>Half-time Home Goals</th>\n",
              "      <th>Half-time Away Goals</th>\n",
              "      <th>Referee</th>\n",
              "      <th>Assistant 1</th>\n",
              "      <th>Assistant 2</th>\n",
              "      <th>RoundID</th>\n",
              "      <th>MatchID</th>\n",
              "      <th>Home Team Initials</th>\n",
              "      <th>Away Team Initials</th>\n",
              "    </tr>\n",
              "  </thead>\n",
              "  <tbody>\n",
              "    <tr>\n",
              "      <th>0</th>\n",
              "      <td>1930.0</td>\n",
              "      <td>13 Jul 1930 - 15:00</td>\n",
              "      <td>Group 1</td>\n",
              "      <td>Pocitos</td>\n",
              "      <td>Montevideo</td>\n",
              "      <td>France</td>\n",
              "      <td>4.0</td>\n",
              "      <td>1.0</td>\n",
              "      <td>Mexico</td>\n",
              "      <td></td>\n",
              "      <td>4444.0</td>\n",
              "      <td>3.0</td>\n",
              "      <td>0.0</td>\n",
              "      <td>LOMBARDI Domingo (URU)</td>\n",
              "      <td>CRISTOPHE Henry (BEL)</td>\n",
              "      <td>REGO Gilberto (BRA)</td>\n",
              "      <td>201.0</td>\n",
              "      <td>1096.0</td>\n",
              "      <td>FRA</td>\n",
              "      <td>MEX</td>\n",
              "    </tr>\n",
              "    <tr>\n",
              "      <th>1</th>\n",
              "      <td>1930.0</td>\n",
              "      <td>13 Jul 1930 - 15:00</td>\n",
              "      <td>Group 4</td>\n",
              "      <td>Parque Central</td>\n",
              "      <td>Montevideo</td>\n",
              "      <td>USA</td>\n",
              "      <td>3.0</td>\n",
              "      <td>0.0</td>\n",
              "      <td>Belgium</td>\n",
              "      <td></td>\n",
              "      <td>18346.0</td>\n",
              "      <td>2.0</td>\n",
              "      <td>0.0</td>\n",
              "      <td>MACIAS Jose (ARG)</td>\n",
              "      <td>MATEUCCI Francisco (URU)</td>\n",
              "      <td>WARNKEN Alberto (CHI)</td>\n",
              "      <td>201.0</td>\n",
              "      <td>1090.0</td>\n",
              "      <td>USA</td>\n",
              "      <td>BEL</td>\n",
              "    </tr>\n",
              "    <tr>\n",
              "      <th>2</th>\n",
              "      <td>1930.0</td>\n",
              "      <td>14 Jul 1930 - 12:45</td>\n",
              "      <td>Group 2</td>\n",
              "      <td>Parque Central</td>\n",
              "      <td>Montevideo</td>\n",
              "      <td>Yugoslavia</td>\n",
              "      <td>2.0</td>\n",
              "      <td>1.0</td>\n",
              "      <td>Brazil</td>\n",
              "      <td></td>\n",
              "      <td>24059.0</td>\n",
              "      <td>2.0</td>\n",
              "      <td>0.0</td>\n",
              "      <td>TEJADA Anibal (URU)</td>\n",
              "      <td>VALLARINO Ricardo (URU)</td>\n",
              "      <td>BALWAY Thomas (FRA)</td>\n",
              "      <td>201.0</td>\n",
              "      <td>1093.0</td>\n",
              "      <td>YUG</td>\n",
              "      <td>BRA</td>\n",
              "    </tr>\n",
              "    <tr>\n",
              "      <th>3</th>\n",
              "      <td>1930.0</td>\n",
              "      <td>14 Jul 1930 - 14:50</td>\n",
              "      <td>Group 3</td>\n",
              "      <td>Pocitos</td>\n",
              "      <td>Montevideo</td>\n",
              "      <td>Romania</td>\n",
              "      <td>3.0</td>\n",
              "      <td>1.0</td>\n",
              "      <td>Peru</td>\n",
              "      <td></td>\n",
              "      <td>2549.0</td>\n",
              "      <td>1.0</td>\n",
              "      <td>0.0</td>\n",
              "      <td>WARNKEN Alberto (CHI)</td>\n",
              "      <td>LANGENUS Jean (BEL)</td>\n",
              "      <td>MATEUCCI Francisco (URU)</td>\n",
              "      <td>201.0</td>\n",
              "      <td>1098.0</td>\n",
              "      <td>ROU</td>\n",
              "      <td>PER</td>\n",
              "    </tr>\n",
              "    <tr>\n",
              "      <th>4</th>\n",
              "      <td>1930.0</td>\n",
              "      <td>15 Jul 1930 - 16:00</td>\n",
              "      <td>Group 1</td>\n",
              "      <td>Parque Central</td>\n",
              "      <td>Montevideo</td>\n",
              "      <td>Argentina</td>\n",
              "      <td>1.0</td>\n",
              "      <td>0.0</td>\n",
              "      <td>France</td>\n",
              "      <td></td>\n",
              "      <td>23409.0</td>\n",
              "      <td>0.0</td>\n",
              "      <td>0.0</td>\n",
              "      <td>REGO Gilberto (BRA)</td>\n",
              "      <td>SAUCEDO Ulises (BOL)</td>\n",
              "      <td>RADULESCU Constantin (ROU)</td>\n",
              "      <td>201.0</td>\n",
              "      <td>1085.0</td>\n",
              "      <td>ARG</td>\n",
              "      <td>FRA</td>\n",
              "    </tr>\n",
              "    <tr>\n",
              "      <th>...</th>\n",
              "      <td>...</td>\n",
              "      <td>...</td>\n",
              "      <td>...</td>\n",
              "      <td>...</td>\n",
              "      <td>...</td>\n",
              "      <td>...</td>\n",
              "      <td>...</td>\n",
              "      <td>...</td>\n",
              "      <td>...</td>\n",
              "      <td>...</td>\n",
              "      <td>...</td>\n",
              "      <td>...</td>\n",
              "      <td>...</td>\n",
              "      <td>...</td>\n",
              "      <td>...</td>\n",
              "      <td>...</td>\n",
              "      <td>...</td>\n",
              "      <td>...</td>\n",
              "      <td>...</td>\n",
              "      <td>...</td>\n",
              "    </tr>\n",
              "    <tr>\n",
              "      <th>831</th>\n",
              "      <td>2014.0</td>\n",
              "      <td>05 Jul 2014 - 13:00</td>\n",
              "      <td>Quarter-finals</td>\n",
              "      <td>Estadio Nacional</td>\n",
              "      <td>Brasilia</td>\n",
              "      <td>Argentina</td>\n",
              "      <td>1.0</td>\n",
              "      <td>0.0</td>\n",
              "      <td>Belgium</td>\n",
              "      <td></td>\n",
              "      <td>68551.0</td>\n",
              "      <td>1.0</td>\n",
              "      <td>0.0</td>\n",
              "      <td>Nicola RIZZOLI (ITA)</td>\n",
              "      <td>Renato FAVERANI (ITA)</td>\n",
              "      <td>Andrea STEFANI (ITA)</td>\n",
              "      <td>255953.0</td>\n",
              "      <td>300186504.0</td>\n",
              "      <td>ARG</td>\n",
              "      <td>BEL</td>\n",
              "    </tr>\n",
              "    <tr>\n",
              "      <th>832</th>\n",
              "      <td>2014.0</td>\n",
              "      <td>29 Jun 2014 - 13:00</td>\n",
              "      <td>Round of 16</td>\n",
              "      <td>Estadio Castelao</td>\n",
              "      <td>Fortaleza</td>\n",
              "      <td>Netherlands</td>\n",
              "      <td>2.0</td>\n",
              "      <td>1.0</td>\n",
              "      <td>Mexico</td>\n",
              "      <td></td>\n",
              "      <td>58817.0</td>\n",
              "      <td>0.0</td>\n",
              "      <td>0.0</td>\n",
              "      <td>PROENCA Pedro (POR)</td>\n",
              "      <td>MIRANDA Bertino (POR)</td>\n",
              "      <td>TRIGO Jose (POR)</td>\n",
              "      <td>255951.0</td>\n",
              "      <td>300186508.0</td>\n",
              "      <td>NED</td>\n",
              "      <td>MEX</td>\n",
              "    </tr>\n",
              "    <tr>\n",
              "      <th>833</th>\n",
              "      <td>2014.0</td>\n",
              "      <td>29 Jun 2014 - 17:00</td>\n",
              "      <td>Round of 16</td>\n",
              "      <td>Arena Pernambuco</td>\n",
              "      <td>Recife</td>\n",
              "      <td>Costa Rica</td>\n",
              "      <td>1.0</td>\n",
              "      <td>1.0</td>\n",
              "      <td>Greece</td>\n",
              "      <td>Costa Rica win on penalties (5 - 3)</td>\n",
              "      <td>41242.0</td>\n",
              "      <td>0.0</td>\n",
              "      <td>0.0</td>\n",
              "      <td>Ben WILLIAMS (AUS)</td>\n",
              "      <td>CREAM Matthew (AUS)</td>\n",
              "      <td>ANAZ Hakan (AUS)</td>\n",
              "      <td>255951.0</td>\n",
              "      <td>300186459.0</td>\n",
              "      <td>CRC</td>\n",
              "      <td>GRE</td>\n",
              "    </tr>\n",
              "    <tr>\n",
              "      <th>834</th>\n",
              "      <td>2014.0</td>\n",
              "      <td>01 Jul 2014 - 13:00</td>\n",
              "      <td>Round of 16</td>\n",
              "      <td>Arena de Sao Paulo</td>\n",
              "      <td>Sao Paulo</td>\n",
              "      <td>Argentina</td>\n",
              "      <td>1.0</td>\n",
              "      <td>0.0</td>\n",
              "      <td>Switzerland</td>\n",
              "      <td>Argentina win after extra time</td>\n",
              "      <td>63255.0</td>\n",
              "      <td>0.0</td>\n",
              "      <td>0.0</td>\n",
              "      <td>ERIKSSON Jonas (SWE)</td>\n",
              "      <td>KLASENIUS Mathias (SWE)</td>\n",
              "      <td>WARNMARK Daniel (SWE)</td>\n",
              "      <td>255951.0</td>\n",
              "      <td>300186503.0</td>\n",
              "      <td>ARG</td>\n",
              "      <td>SUI</td>\n",
              "    </tr>\n",
              "    <tr>\n",
              "      <th>835</th>\n",
              "      <td>2014.0</td>\n",
              "      <td>01 Jul 2014 - 17:00</td>\n",
              "      <td>Round of 16</td>\n",
              "      <td>Arena Fonte Nova</td>\n",
              "      <td>Salvador</td>\n",
              "      <td>Belgium</td>\n",
              "      <td>2.0</td>\n",
              "      <td>1.0</td>\n",
              "      <td>USA</td>\n",
              "      <td>Belgium win after extra time</td>\n",
              "      <td>51227.0</td>\n",
              "      <td>0.0</td>\n",
              "      <td>0.0</td>\n",
              "      <td>HAIMOUDI Djamel (ALG)</td>\n",
              "      <td>ACHIK Redouane (MAR)</td>\n",
              "      <td>ETCHIALI Abdelhak (ALG)</td>\n",
              "      <td>255951.0</td>\n",
              "      <td>300186497.0</td>\n",
              "      <td>BEL</td>\n",
              "      <td>USA</td>\n",
              "    </tr>\n",
              "  </tbody>\n",
              "</table>\n",
              "<p>836 rows × 20 columns</p>\n",
              "</div>\n",
              "      <button class=\"colab-df-convert\" onclick=\"convertToInteractive('df-a80c61e7-e054-4b83-abca-5eb69c0f81cb')\"\n",
              "              title=\"Convert this dataframe to an interactive table.\"\n",
              "              style=\"display:none;\">\n",
              "        \n",
              "  <svg xmlns=\"http://www.w3.org/2000/svg\" height=\"24px\"viewBox=\"0 0 24 24\"\n",
              "       width=\"24px\">\n",
              "    <path d=\"M0 0h24v24H0V0z\" fill=\"none\"/>\n",
              "    <path d=\"M18.56 5.44l.94 2.06.94-2.06 2.06-.94-2.06-.94-.94-2.06-.94 2.06-2.06.94zm-11 1L8.5 8.5l.94-2.06 2.06-.94-2.06-.94L8.5 2.5l-.94 2.06-2.06.94zm10 10l.94 2.06.94-2.06 2.06-.94-2.06-.94-.94-2.06-.94 2.06-2.06.94z\"/><path d=\"M17.41 7.96l-1.37-1.37c-.4-.4-.92-.59-1.43-.59-.52 0-1.04.2-1.43.59L10.3 9.45l-7.72 7.72c-.78.78-.78 2.05 0 2.83L4 21.41c.39.39.9.59 1.41.59.51 0 1.02-.2 1.41-.59l7.78-7.78 2.81-2.81c.8-.78.8-2.07 0-2.86zM5.41 20L4 18.59l7.72-7.72 1.47 1.35L5.41 20z\"/>\n",
              "  </svg>\n",
              "      </button>\n",
              "      \n",
              "  <style>\n",
              "    .colab-df-container {\n",
              "      display:flex;\n",
              "      flex-wrap:wrap;\n",
              "      gap: 12px;\n",
              "    }\n",
              "\n",
              "    .colab-df-convert {\n",
              "      background-color: #E8F0FE;\n",
              "      border: none;\n",
              "      border-radius: 50%;\n",
              "      cursor: pointer;\n",
              "      display: none;\n",
              "      fill: #1967D2;\n",
              "      height: 32px;\n",
              "      padding: 0 0 0 0;\n",
              "      width: 32px;\n",
              "    }\n",
              "\n",
              "    .colab-df-convert:hover {\n",
              "      background-color: #E2EBFA;\n",
              "      box-shadow: 0px 1px 2px rgba(60, 64, 67, 0.3), 0px 1px 3px 1px rgba(60, 64, 67, 0.15);\n",
              "      fill: #174EA6;\n",
              "    }\n",
              "\n",
              "    [theme=dark] .colab-df-convert {\n",
              "      background-color: #3B4455;\n",
              "      fill: #D2E3FC;\n",
              "    }\n",
              "\n",
              "    [theme=dark] .colab-df-convert:hover {\n",
              "      background-color: #434B5C;\n",
              "      box-shadow: 0px 1px 3px 1px rgba(0, 0, 0, 0.15);\n",
              "      filter: drop-shadow(0px 1px 2px rgba(0, 0, 0, 0.3));\n",
              "      fill: #FFFFFF;\n",
              "    }\n",
              "  </style>\n",
              "\n",
              "      <script>\n",
              "        const buttonEl =\n",
              "          document.querySelector('#df-a80c61e7-e054-4b83-abca-5eb69c0f81cb button.colab-df-convert');\n",
              "        buttonEl.style.display =\n",
              "          google.colab.kernel.accessAllowed ? 'block' : 'none';\n",
              "\n",
              "        async function convertToInteractive(key) {\n",
              "          const element = document.querySelector('#df-a80c61e7-e054-4b83-abca-5eb69c0f81cb');\n",
              "          const dataTable =\n",
              "            await google.colab.kernel.invokeFunction('convertToInteractive',\n",
              "                                                     [key], {});\n",
              "          if (!dataTable) return;\n",
              "\n",
              "          const docLinkHtml = 'Like what you see? Visit the ' +\n",
              "            '<a target=\"_blank\" href=https://colab.research.google.com/notebooks/data_table.ipynb>data table notebook</a>'\n",
              "            + ' to learn more about interactive tables.';\n",
              "          element.innerHTML = '';\n",
              "          dataTable['output_type'] = 'display_data';\n",
              "          await google.colab.output.renderOutput(dataTable, element);\n",
              "          const docLink = document.createElement('div');\n",
              "          docLink.innerHTML = docLinkHtml;\n",
              "          element.appendChild(docLink);\n",
              "        }\n",
              "      </script>\n",
              "    </div>\n",
              "  </div>\n",
              "  "
            ]
          },
          "metadata": {},
          "execution_count": 5
        }
      ],
      "source": [
        "df"
      ]
    },
    {
      "cell_type": "code",
      "execution_count": 6,
      "metadata": {
        "id": "E3gANz-b5n6y",
        "outputId": "fc260b34-7743-47a5-f5fb-25e0cc0fcd01",
        "colab": {
          "base_uri": "https://localhost:8080/"
        }
      },
      "outputs": [
        {
          "output_type": "execute_result",
          "data": {
            "text/plain": [
              "array(['Mexico', 'Belgium', 'Brazil', 'Peru', 'France', 'Bolivia',\n",
              "       'Paraguay', 'Romania', 'Chile', 'USA', 'Yugoslavia', 'Argentina',\n",
              "       'Egypt', 'Netherlands', 'Switzerland', 'Sweden', 'Spain',\n",
              "       'Hungary', 'Austria', 'Germany', 'Czechoslovakia',\n",
              "       'Dutch East Indies', 'Norway', 'Poland', 'Cuba', 'Italy',\n",
              "       'England', 'Scotland', 'Turkey', 'Korea Republic', 'Germany FR',\n",
              "       'Uruguay', 'Wales', 'Northern Ireland', 'Soviet Union', 'Colombia',\n",
              "       'Bulgaria', 'Korea DPR', 'Portugal', 'Israel', 'Morocco',\n",
              "       'El Salvador', 'Australia', 'Haiti', 'German DR', 'Zaire',\n",
              "       'IR Iran', 'Tunisia', 'Iran', 'Cameroon', 'New Zealand', 'Algeria',\n",
              "       'Honduras', 'Kuwait', 'Iraq', 'Denmark', 'Canada',\n",
              "       'rn\">Republic of Ireland', 'rn\">United Arab Emirates',\n",
              "       'Costa Rica', 'Saudi Arabia', 'Russia', 'Greece', 'Nigeria',\n",
              "       'South Africa', 'Japan', 'Croatia', 'Jamaica', 'Senegal',\n",
              "       'Slovenia', 'Ecuador', 'China PR', \"C�te d'Ivoire\",\n",
              "       'Czech Republic', 'Ghana', 'Togo', 'Ukraine',\n",
              "       'rn\">Trinidad and Tobago', 'rn\">Serbia and Montenegro', 'Angola',\n",
              "       'Slovakia', 'Serbia', 'rn\">Bosnia and Herzegovina'], dtype=object)"
            ]
          },
          "metadata": {},
          "execution_count": 6
        }
      ],
      "source": [
        "#Vamos observar se tudo parece correto.\n",
        "df['Home Team Name'].unique()\n",
        "df['Away Team Name'].unique()"
      ]
    },
    {
      "cell_type": "markdown",
      "metadata": {
        "id": "dBOGBjGF5n6z"
      },
      "source": [
        "Temos algumas coisas para mudar aqui.\n",
        "\n",
        "- Paísas com 'rn'> Parece que foram renomeados posteriormente (como Trinidad and Tobag, Bosnia, etc)\n",
        "\n",
        "- Alemanha está dividida em algumas formas (Germany FR, Germany DR, Germany). Vamos pelo menos juntar Germany e Germany FR, que mantiveram o histórico de fato dos resultados dac opa.\n",
        "\n",
        "- O mesmo ocorre para IR Iran e Iran"
      ]
    },
    {
      "cell_type": "code",
      "execution_count": 7,
      "metadata": {
        "id": "vqjW_AFX5n60"
      },
      "outputs": [],
      "source": [
        "rn_list = df[df['Home Team Name'].str.contains('>')]['Home Team Name'].unique().tolist()\n",
        "rn_list_away = df[df['Away Team Name'].str.contains('>')]['Away Team Name'].unique().tolist()\n",
        "\n",
        "rn_list.extend(rn_list_away)"
      ]
    },
    {
      "cell_type": "code",
      "execution_count": 8,
      "metadata": {
        "id": "_4UwgXfD5n61",
        "outputId": "a361db3d-df2e-48e5-97dc-197c8b042677",
        "colab": {
          "base_uri": "https://localhost:8080/"
        }
      },
      "outputs": [
        {
          "output_type": "execute_result",
          "data": {
            "text/plain": [
              "['rn\">United Arab Emirates',\n",
              " 'rn\">Republic of Ireland',\n",
              " 'rn\">Trinidad and Tobago',\n",
              " 'rn\">Serbia and Montenegro',\n",
              " 'rn\">Bosnia and Herzegovina',\n",
              " 'rn\">Republic of Ireland',\n",
              " 'rn\">United Arab Emirates',\n",
              " 'rn\">Trinidad and Tobago',\n",
              " 'rn\">Serbia and Montenegro',\n",
              " 'rn\">Bosnia and Herzegovina']"
            ]
          },
          "metadata": {},
          "execution_count": 8
        }
      ],
      "source": [
        "rn_list"
      ]
    },
    {
      "cell_type": "code",
      "execution_count": 9,
      "metadata": {
        "id": "WmtBEK3s5n61"
      },
      "outputs": [],
      "source": [
        "#Pegando os valores da lista não-duplicados\n",
        "wrong = list(set(rn_list))\n",
        "\n",
        "right = [n.split('>')[-1] for n in wrong]"
      ]
    },
    {
      "cell_type": "code",
      "execution_count": 10,
      "metadata": {
        "id": "tZxZLvxy5n63"
      },
      "outputs": [],
      "source": [
        "#Outros nomes que faremos.\n",
        "wrong.extend(['Germany FR', 'IR Iran'])\n",
        "\n",
        "right.extend(['Germany', 'Iran'])"
      ]
    },
    {
      "cell_type": "code",
      "execution_count": 11,
      "metadata": {
        "id": "wyLaPMDy5n63"
      },
      "outputs": [],
      "source": [
        "#Dict comprehension\n",
        "dict_changes = {k:v for k,v in zip(wrong, right)}"
      ]
    },
    {
      "cell_type": "code",
      "execution_count": 12,
      "metadata": {
        "id": "GPCJQ2h-5n63",
        "outputId": "a5feaabe-d85d-4e50-d211-87bfdcfbdc52",
        "colab": {
          "base_uri": "https://localhost:8080/"
        }
      },
      "outputs": [
        {
          "output_type": "execute_result",
          "data": {
            "text/plain": [
              "{'rn\">Bosnia and Herzegovina': 'Bosnia and Herzegovina',\n",
              " 'rn\">Republic of Ireland': 'Republic of Ireland',\n",
              " 'rn\">United Arab Emirates': 'United Arab Emirates',\n",
              " 'rn\">Serbia and Montenegro': 'Serbia and Montenegro',\n",
              " 'rn\">Trinidad and Tobago': 'Trinidad and Tobago',\n",
              " 'Germany FR': 'Germany',\n",
              " 'IR Iran': 'Iran'}"
            ]
          },
          "metadata": {},
          "execution_count": 12
        }
      ],
      "source": [
        "dict_changes"
      ]
    },
    {
      "cell_type": "code",
      "execution_count": 13,
      "metadata": {
        "id": "DmHK5-d85n64"
      },
      "outputs": [],
      "source": [
        "df['Home Team Name'].replace(dict_changes,inplace=True)\n",
        "df['Away Team Name'].replace(dict_changes,inplace=True)"
      ]
    },
    {
      "cell_type": "markdown",
      "metadata": {
        "id": "8tVPR0xd5n64"
      },
      "source": [
        "Por fim, vamos ver se tem algo de especial ali no 'Win conditions'"
      ]
    },
    {
      "cell_type": "code",
      "execution_count": 14,
      "metadata": {
        "id": "AP9zmX1Y5n64",
        "outputId": "05352398-8346-4358-8018-877302717781",
        "colab": {
          "base_uri": "https://localhost:8080/"
        }
      },
      "outputs": [
        {
          "output_type": "execute_result",
          "data": {
            "text/plain": [
              "array([' ', 'Austria win after extra time ',\n",
              "       'Italy win after extra time ', 'Brazil win after extra time ',\n",
              "       'Czechoslovakia win after extra time ',\n",
              "       'Hungary win after extra time ',\n",
              "       'Northern Ireland win after extra time ',\n",
              "       'England win after extra time ',\n",
              "       'Germany FR win after extra time ',\n",
              "       'Uruguay win after extra time ', 'Argentina win after extra time ',\n",
              "       ' win on penalties (5 - 4) ', 'Belgium win after extra time ',\n",
              "       'France win on penalties (3 - 4) ',\n",
              "       'Germany FR win on penalties (4 - 1) ',\n",
              "       'Belgium win on penalties (4 - 5) ',\n",
              "       'France win after extra time ', 'Cameroon win after extra time ',\n",
              "       'Republic of Ireland win on penalties (5 - 4) ',\n",
              "       'Yugoslavia win after extra time '], dtype=object)"
            ]
          },
          "metadata": {},
          "execution_count": 14
        }
      ],
      "source": [
        "df['Win conditions'].unique()[:20]"
      ]
    },
    {
      "cell_type": "code",
      "execution_count": 15,
      "metadata": {
        "id": "fPdSJ1865n65",
        "outputId": "0f0ca1fa-b246-450a-fdce-047c697a3616",
        "colab": {
          "base_uri": "https://localhost:8080/"
        }
      },
      "outputs": [
        {
          "output_type": "execute_result",
          "data": {
            "text/plain": [
              "array([' win on penalties (2 - 3) ', ' win on penalties (3 - 4) ',\n",
              "       ' win on penalties (4 - 3) ', 'Bulgaria win on penalties (1 - 3) ',\n",
              "       'Sweden win on penalties (4 - 5) ',\n",
              "       'Brazil win on penalties (3 - 2) ',\n",
              "       'Argentina win on penalties (4 - 3) ',\n",
              "       'Brazil win on penalties (4 - 2) ',\n",
              "       'Spain win on penalties (3 - 2) ', 'Win on Golden Goal ',\n",
              "       'Korea Republic win on penalties (3 - 5) ',\n",
              "       'Ukraine win on penalties (0 - 3) ',\n",
              "       'Germany win on penalties (4 - 2) ',\n",
              "       'Portugal win on penalties (1 - 3) ',\n",
              "       'Italy win on penalties (5 - 3) ', 'Ghana win after extra time ',\n",
              "       'Paraguay win on penalties (5 - 3) ',\n",
              "       'Uruguay win on penalties (4 - 2) ', 'Spain win after extra time ',\n",
              "       'Germany win after extra time ',\n",
              "       'Argentina win on penalties (2 - 4) ',\n",
              "       'Netherlands win on penalties (4 - 3) ',\n",
              "       'Costa Rica win on penalties (5 - 3) '], dtype=object)"
            ]
          },
          "metadata": {},
          "execution_count": 15
        }
      ],
      "source": [
        "df['Win conditions'].unique()[20:]"
      ]
    },
    {
      "cell_type": "markdown",
      "metadata": {
        "id": "W8jcqnmP5n65"
      },
      "source": [
        "- Quais são os maiores ganhadores da Copa do Mundo?"
      ]
    },
    {
      "cell_type": "code",
      "execution_count": 16,
      "metadata": {
        "id": "2YiZFId95n65"
      },
      "outputs": [],
      "source": [
        "#Vamos criar uma coluna auxiliar para contar os vencedores.\n",
        "df['Winner'] = np.nan "
      ]
    },
    {
      "cell_type": "code",
      "execution_count": 17,
      "metadata": {
        "id": "yp0SVSLL5n65"
      },
      "outputs": [],
      "source": [
        "def get_winner(row):\n",
        "    if row['Home Team Goals'] > row['Away Team Goals']:\n",
        "        row['Winner'] = row['Home Team Name']\n",
        "    elif row['Home Team Goals'] < row['Away Team Goals']:\n",
        "        row['Winner'] = row['Away Team Name']\n",
        "    else:\n",
        "        if (row['Win conditions'] == ' ') or (row['Win conditions'] is None):\n",
        "            row['Winner'] = 'Tie'\n",
        "        else:\n",
        "            row['Winner'] = row['Win conditions'].split(' win')[0]\n",
        "    return row\n",
        "\n",
        "\n",
        "\n",
        "df = df.apply(get_winner, axis=1)"
      ]
    },
    {
      "cell_type": "code",
      "execution_count": 18,
      "metadata": {
        "id": "JkUnhUgJ5n66"
      },
      "outputs": [],
      "source": [
        "#Precisamos adicionar isso manualmente\n",
        "df[df['Winner'] == '']\n",
        "\n",
        "#Manualmente adicionando.\n",
        "new_vals = ['Germany','Argentina','Argentina','Germany']\n",
        "\n",
        "df.loc[df['Winner'] == '','Winner'] = new_vals\n"
      ]
    },
    {
      "cell_type": "code",
      "execution_count": 19,
      "metadata": {
        "id": "F7eTLrHp5n66"
      },
      "outputs": [],
      "source": [
        "titles = df[df['Stage'] == 'Final']['Winner'].value_counts()"
      ]
    },
    {
      "cell_type": "code",
      "execution_count": 20,
      "metadata": {
        "id": "ItfD2Qlq5n67",
        "outputId": "94e99bed-2d44-459b-c895-5877181a059b",
        "colab": {
          "base_uri": "https://localhost:8080/",
          "height": 705
        }
      },
      "outputs": [
        {
          "output_type": "execute_result",
          "data": {
            "text/plain": [
              "Text(0.5, 1.0, 'Campeões da Copa do Mundo')"
            ]
          },
          "metadata": {},
          "execution_count": 20
        },
        {
          "output_type": "display_data",
          "data": {
            "text/plain": [
              "<Figure size 1152x720 with 1 Axes>"
            ],
            "image/png": "[encoded data removed]"
          },
          "metadata": {
            "needs_background": "light"
          }
        }
      ],
      "source": [
        "fig = plt.figure(figsize=(16,10))\n",
        "\n",
        "colors = ['Yellow','Green','Red','White','lightblue','White','darkblue','darkred']\n",
        "\n",
        "edge_color = ['Green','Red','Black','Blue','Blue','Red','Red','Yellow']\n",
        "\n",
        "plt.bar(titles.index, titles.values, color=colors, edgecolor=edge_color, alpha=0.8, linewidth=3)\n",
        "plt.grid(axis='y')\n",
        "plt.xticks(fontsize=15, rotation = 45);\n",
        "plt.xlabel('Países',fontsize=18)\n",
        "plt.yticks(fontsize=15);\n",
        "plt.ylabel('Títulos',fontsize=18)\n",
        "plt.title('Campeões da Copa do Mundo',fontsize=20)"
      ]
    },
    {
      "cell_type": "markdown",
      "metadata": {
        "id": "0WSyiY9x5n67"
      },
      "source": [
        "- Quais são as seleções que mais participaram de edições da Copa do Mundo?"
      ]
    },
    {
      "cell_type": "code",
      "execution_count": 21,
      "metadata": {
        "id": "ZStYgM775n67"
      },
      "outputs": [],
      "source": [
        "df_home = df.groupby(['Year', 'Home Team Name']).count()['Home Team Goals'].to_frame()\n",
        "df_away = df.groupby(['Year', 'Away Team Name']).count()['Away Team Goals'].to_frame()"
      ]
    },
    {
      "cell_type": "code",
      "execution_count": 22,
      "metadata": {
        "id": "3qNP9hbr5n67"
      },
      "outputs": [],
      "source": [
        "df_home = df_home.reset_index().rename(columns={'Home Team Name': 'Name', 'Home Team Goals':'Home Matches'}).set_index(['Year','Name'])\n",
        "df_away = df_away.reset_index().rename(columns={'Away Team Name': 'Name', 'Away Team Goals':'Away Matches'}).set_index(['Year','Name'])"
      ]
    },
    {
      "cell_type": "code",
      "execution_count": 23,
      "metadata": {
        "id": "5Idh-QAv5n68",
        "outputId": "e469b61b-68cd-4dac-9c85-a27fab69fd47",
        "colab": {
          "base_uri": "https://localhost:8080/",
          "height": 455
        }
      },
      "outputs": [
        {
          "output_type": "execute_result",
          "data": {
            "text/plain": [
              "                    Away Matches\n",
              "Year   Name                     \n",
              "1930.0 Argentina               1\n",
              "       Belgium                 2\n",
              "       Bolivia                 2\n",
              "       Brazil                  1\n",
              "       Chile                   1\n",
              "...                          ...\n",
              "2014.0 Russia                  2\n",
              "       Spain                   1\n",
              "       Switzerland             2\n",
              "       USA                     2\n",
              "       Uruguay                 2\n",
              "\n",
              "[409 rows x 1 columns]"
            ],
            "text/html": [
              "\n",
              "  <div id=\"df-cf1d76f7-ae75-4054-93fa-8b53801c877d\">\n",
              "    <div class=\"colab-df-container\">\n",
              "      <div>\n",
              "<style scoped>\n",
              "    .dataframe tbody tr th:only-of-type {\n",
              "        vertical-align: middle;\n",
              "    }\n",
              "\n",
              "    .dataframe tbody tr th {\n",
              "        vertical-align: top;\n",
              "    }\n",
              "\n",
              "    .dataframe thead th {\n",
              "        text-align: right;\n",
              "    }\n",
              "</style>\n",
              "<table border=\"1\" class=\"dataframe\">\n",
              "  <thead>\n",
              "    <tr style=\"text-align: right;\">\n",
              "      <th></th>\n",
              "      <th></th>\n",
              "      <th>Away Matches</th>\n",
              "    </tr>\n",
              "    <tr>\n",
              "      <th>Year</th>\n",
              "      <th>Name</th>\n",
              "      <th></th>\n",
              "    </tr>\n",
              "  </thead>\n",
              "  <tbody>\n",
              "    <tr>\n",
              "      <th rowspan=\"5\" valign=\"top\">1930.0</th>\n",
              "      <th>Argentina</th>\n",
              "      <td>1</td>\n",
              "    </tr>\n",
              "    <tr>\n",
              "      <th>Belgium</th>\n",
              "      <td>2</td>\n",
              "    </tr>\n",
              "    <tr>\n",
              "      <th>Bolivia</th>\n",
              "      <td>2</td>\n",
              "    </tr>\n",
              "    <tr>\n",
              "      <th>Brazil</th>\n",
              "      <td>1</td>\n",
              "    </tr>\n",
              "    <tr>\n",
              "      <th>Chile</th>\n",
              "      <td>1</td>\n",
              "    </tr>\n",
              "    <tr>\n",
              "      <th>...</th>\n",
              "      <th>...</th>\n",
              "      <td>...</td>\n",
              "    </tr>\n",
              "    <tr>\n",
              "      <th rowspan=\"5\" valign=\"top\">2014.0</th>\n",
              "      <th>Russia</th>\n",
              "      <td>2</td>\n",
              "    </tr>\n",
              "    <tr>\n",
              "      <th>Spain</th>\n",
              "      <td>1</td>\n",
              "    </tr>\n",
              "    <tr>\n",
              "      <th>Switzerland</th>\n",
              "      <td>2</td>\n",
              "    </tr>\n",
              "    <tr>\n",
              "      <th>USA</th>\n",
              "      <td>2</td>\n",
              "    </tr>\n",
              "    <tr>\n",
              "      <th>Uruguay</th>\n",
              "      <td>2</td>\n",
              "    </tr>\n",
              "  </tbody>\n",
              "</table>\n",
              "<p>409 rows × 1 columns</p>\n",
              "</div>\n",
              "      <button class=\"colab-df-convert\" onclick=\"convertToInteractive('df-cf1d76f7-ae75-4054-93fa-8b53801c877d')\"\n",
              "              title=\"Convert this dataframe to an interactive table.\"\n",
              "              style=\"display:none;\">\n",
              "        \n",
              "  <svg xmlns=\"http://www.w3.org/2000/svg\" height=\"24px\"viewBox=\"0 0 24 24\"\n",
              "       width=\"24px\">\n",
              "    <path d=\"M0 0h24v24H0V0z\" fill=\"none\"/>\n",
              "    <path d=\"M18.56 5.44l.94 2.06.94-2.06 2.06-.94-2.06-.94-.94-2.06-.94 2.06-2.06.94zm-11 1L8.5 8.5l.94-2.06 2.06-.94-2.06-.94L8.5 2.5l-.94 2.06-2.06.94zm10 10l.94 2.06.94-2.06 2.06-.94-2.06-.94-.94-2.06-.94 2.06-2.06.94z\"/><path d=\"M17.41 7.96l-1.37-1.37c-.4-.4-.92-.59-1.43-.59-.52 0-1.04.2-1.43.59L10.3 9.45l-7.72 7.72c-.78.78-.78 2.05 0 2.83L4 21.41c.39.39.9.59 1.41.59.51 0 1.02-.2 1.41-.59l7.78-7.78 2.81-2.81c.8-.78.8-2.07 0-2.86zM5.41 20L4 18.59l7.72-7.72 1.47 1.35L5.41 20z\"/>\n",
              "  </svg>\n",
              "      </button>\n",
              "      \n",
              "  <style>\n",
              "    .colab-df-container {\n",
              "      display:flex;\n",
              "      flex-wrap:wrap;\n",
              "      gap: 12px;\n",
              "    }\n",
              "\n",
              "    .colab-df-convert {\n",
              "      background-color: #E8F0FE;\n",
              "      border: none;\n",
              "      border-radius: 50%;\n",
              "      cursor: pointer;\n",
              "      display: none;\n",
              "      fill: #1967D2;\n",
              "      height: 32px;\n",
              "      padding: 0 0 0 0;\n",
              "      width: 32px;\n",
              "    }\n",
              "\n",
              "    .colab-df-convert:hover {\n",
              "      background-color: #E2EBFA;\n",
              "      box-shadow: 0px 1px 2px rgba(60, 64, 67, 0.3), 0px 1px 3px 1px rgba(60, 64, 67, 0.15);\n",
              "      fill: #174EA6;\n",
              "    }\n",
              "\n",
              "    [theme=dark] .colab-df-convert {\n",
              "      background-color: #3B4455;\n",
              "      fill: #D2E3FC;\n",
              "    }\n",
              "\n",
              "    [theme=dark] .colab-df-convert:hover {\n",
              "      background-color: #434B5C;\n",
              "      box-shadow: 0px 1px 3px 1px rgba(0, 0, 0, 0.15);\n",
              "      filter: drop-shadow(0px 1px 2px rgba(0, 0, 0, 0.3));\n",
              "      fill: #FFFFFF;\n",
              "    }\n",
              "  </style>\n",
              "\n",
              "      <script>\n",
              "        const buttonEl =\n",
              "          document.querySelector('#df-cf1d76f7-ae75-4054-93fa-8b53801c877d button.colab-df-convert');\n",
              "        buttonEl.style.display =\n",
              "          google.colab.kernel.accessAllowed ? 'block' : 'none';\n",
              "\n",
              "        async function convertToInteractive(key) {\n",
              "          const element = document.querySelector('#df-cf1d76f7-ae75-4054-93fa-8b53801c877d');\n",
              "          const dataTable =\n",
              "            await google.colab.kernel.invokeFunction('convertToInteractive',\n",
              "                                                     [key], {});\n",
              "          if (!dataTable) return;\n",
              "\n",
              "          const docLinkHtml = 'Like what you see? Visit the ' +\n",
              "            '<a target=\"_blank\" href=https://colab.research.google.com/notebooks/data_table.ipynb>data table notebook</a>'\n",
              "            + ' to learn more about interactive tables.';\n",
              "          element.innerHTML = '';\n",
              "          dataTable['output_type'] = 'display_data';\n",
              "          await google.colab.output.renderOutput(dataTable, element);\n",
              "          const docLink = document.createElement('div');\n",
              "          docLink.innerHTML = docLinkHtml;\n",
              "          element.appendChild(docLink);\n",
              "        }\n",
              "      </script>\n",
              "    </div>\n",
              "  </div>\n",
              "  "
            ]
          },
          "metadata": {},
          "execution_count": 23
        }
      ],
      "source": [
        "df_away"
      ]
    },
    {
      "cell_type": "code",
      "execution_count": 24,
      "metadata": {
        "id": "IKDZzD-H5n68"
      },
      "outputs": [],
      "source": [
        "df_concat = pd.concat([df_home, df_away], axis='columns')\n",
        "\n",
        "df_concat.fillna(0,inplace=True)\n",
        "\n",
        "df_concat['Total Matches'] = df_concat['Home Matches'] + df_concat['Away Matches']"
      ]
    },
    {
      "cell_type": "code",
      "execution_count": 25,
      "metadata": {
        "id": "oRnZGLHb5n68",
        "outputId": "206ba8b8-c202-478a-876d-adb9c1944d80",
        "colab": {
          "base_uri": "https://localhost:8080/",
          "height": 455
        }
      },
      "outputs": [
        {
          "output_type": "execute_result",
          "data": {
            "text/plain": [
              "                    Home Matches  Away Matches  Total Matches\n",
              "Year   Name                                                  \n",
              "1930.0 Argentina             4.0           1.0            5.0\n",
              "       Belgium               0.0           2.0            2.0\n",
              "       Bolivia               0.0           2.0            2.0\n",
              "       Brazil                1.0           1.0            2.0\n",
              "       Chile                 2.0           1.0            3.0\n",
              "...                          ...           ...            ...\n",
              "2014.0 Russia                1.0           2.0            3.0\n",
              "       Spain                 2.0           1.0            3.0\n",
              "       Switzerland           2.0           2.0            4.0\n",
              "       USA                   2.0           2.0            4.0\n",
              "       Uruguay               2.0           2.0            4.0\n",
              "\n",
              "[425 rows x 3 columns]"
            ],
            "text/html": [
              "\n",
              "  <div id=\"df-48ca1c33-50f0-43c7-a5ce-e74321402320\">\n",
              "    <div class=\"colab-df-container\">\n",
              "      <div>\n",
              "<style scoped>\n",
              "    .dataframe tbody tr th:only-of-type {\n",
              "        vertical-align: middle;\n",
              "    }\n",
              "\n",
              "    .dataframe tbody tr th {\n",
              "        vertical-align: top;\n",
              "    }\n",
              "\n",
              "    .dataframe thead th {\n",
              "        text-align: right;\n",
              "    }\n",
              "</style>\n",
              "<table border=\"1\" class=\"dataframe\">\n",
              "  <thead>\n",
              "    <tr style=\"text-align: right;\">\n",
              "      <th></th>\n",
              "      <th></th>\n",
              "      <th>Home Matches</th>\n",
              "      <th>Away Matches</th>\n",
              "      <th>Total Matches</th>\n",
              "    </tr>\n",
              "    <tr>\n",
              "      <th>Year</th>\n",
              "      <th>Name</th>\n",
              "      <th></th>\n",
              "      <th></th>\n",
              "      <th></th>\n",
              "    </tr>\n",
              "  </thead>\n",
              "  <tbody>\n",
              "    <tr>\n",
              "      <th rowspan=\"5\" valign=\"top\">1930.0</th>\n",
              "      <th>Argentina</th>\n",
              "      <td>4.0</td>\n",
              "      <td>1.0</td>\n",
              "      <td>5.0</td>\n",
              "    </tr>\n",
              "    <tr>\n",
              "      <th>Belgium</th>\n",
              "      <td>0.0</td>\n",
              "      <td>2.0</td>\n",
              "      <td>2.0</td>\n",
              "    </tr>\n",
              "    <tr>\n",
              "      <th>Bolivia</th>\n",
              "      <td>0.0</td>\n",
              "      <td>2.0</td>\n",
              "      <td>2.0</td>\n",
              "    </tr>\n",
              "    <tr>\n",
              "      <th>Brazil</th>\n",
              "      <td>1.0</td>\n",
              "      <td>1.0</td>\n",
              "      <td>2.0</td>\n",
              "    </tr>\n",
              "    <tr>\n",
              "      <th>Chile</th>\n",
              "      <td>2.0</td>\n",
              "      <td>1.0</td>\n",
              "      <td>3.0</td>\n",
              "    </tr>\n",
              "    <tr>\n",
              "      <th>...</th>\n",
              "      <th>...</th>\n",
              "      <td>...</td>\n",
              "      <td>...</td>\n",
              "      <td>...</td>\n",
              "    </tr>\n",
              "    <tr>\n",
              "      <th rowspan=\"5\" valign=\"top\">2014.0</th>\n",
              "      <th>Russia</th>\n",
              "      <td>1.0</td>\n",
              "      <td>2.0</td>\n",
              "      <td>3.0</td>\n",
              "    </tr>\n",
              "    <tr>\n",
              "      <th>Spain</th>\n",
              "      <td>2.0</td>\n",
              "      <td>1.0</td>\n",
              "      <td>3.0</td>\n",
              "    </tr>\n",
              "    <tr>\n",
              "      <th>Switzerland</th>\n",
              "      <td>2.0</td>\n",
              "      <td>2.0</td>\n",
              "      <td>4.0</td>\n",
              "    </tr>\n",
              "    <tr>\n",
              "      <th>USA</th>\n",
              "      <td>2.0</td>\n",
              "      <td>2.0</td>\n",
              "      <td>4.0</td>\n",
              "    </tr>\n",
              "    <tr>\n",
              "      <th>Uruguay</th>\n",
              "      <td>2.0</td>\n",
              "      <td>2.0</td>\n",
              "      <td>4.0</td>\n",
              "    </tr>\n",
              "  </tbody>\n",
              "</table>\n",
              "<p>425 rows × 3 columns</p>\n",
              "</div>\n",
              "      <button class=\"colab-df-convert\" onclick=\"convertToInteractive('df-48ca1c33-50f0-43c7-a5ce-e74321402320')\"\n",
              "              title=\"Convert this dataframe to an interactive table.\"\n",
              "              style=\"display:none;\">\n",
              "        \n",
              "  <svg xmlns=\"http://www.w3.org/2000/svg\" height=\"24px\"viewBox=\"0 0 24 24\"\n",
              "       width=\"24px\">\n",
              "    <path d=\"M0 0h24v24H0V0z\" fill=\"none\"/>\n",
              "    <path d=\"M18.56 5.44l.94 2.06.94-2.06 2.06-.94-2.06-.94-.94-2.06-.94 2.06-2.06.94zm-11 1L8.5 8.5l.94-2.06 2.06-.94-2.06-.94L8.5 2.5l-.94 2.06-2.06.94zm10 10l.94 2.06.94-2.06 2.06-.94-2.06-.94-.94-2.06-.94 2.06-2.06.94z\"/><path d=\"M17.41 7.96l-1.37-1.37c-.4-.4-.92-.59-1.43-.59-.52 0-1.04.2-1.43.59L10.3 9.45l-7.72 7.72c-.78.78-.78 2.05 0 2.83L4 21.41c.39.39.9.59 1.41.59.51 0 1.02-.2 1.41-.59l7.78-7.78 2.81-2.81c.8-.78.8-2.07 0-2.86zM5.41 20L4 18.59l7.72-7.72 1.47 1.35L5.41 20z\"/>\n",
              "  </svg>\n",
              "      </button>\n",
              "      \n",
              "  <style>\n",
              "    .colab-df-container {\n",
              "      display:flex;\n",
              "      flex-wrap:wrap;\n",
              "      gap: 12px;\n",
              "    }\n",
              "\n",
              "    .colab-df-convert {\n",
              "      background-color: #E8F0FE;\n",
              "      border: none;\n",
              "      border-radius: 50%;\n",
              "      cursor: pointer;\n",
              "      display: none;\n",
              "      fill: #1967D2;\n",
              "      height: 32px;\n",
              "      padding: 0 0 0 0;\n",
              "      width: 32px;\n",
              "    }\n",
              "\n",
              "    .colab-df-convert:hover {\n",
              "      background-color: #E2EBFA;\n",
              "      box-shadow: 0px 1px 2px rgba(60, 64, 67, 0.3), 0px 1px 3px 1px rgba(60, 64, 67, 0.15);\n",
              "      fill: #174EA6;\n",
              "    }\n",
              "\n",
              "    [theme=dark] .colab-df-convert {\n",
              "      background-color: #3B4455;\n",
              "      fill: #D2E3FC;\n",
              "    }\n",
              "\n",
              "    [theme=dark] .colab-df-convert:hover {\n",
              "      background-color: #434B5C;\n",
              "      box-shadow: 0px 1px 3px 1px rgba(0, 0, 0, 0.15);\n",
              "      filter: drop-shadow(0px 1px 2px rgba(0, 0, 0, 0.3));\n",
              "      fill: #FFFFFF;\n",
              "    }\n",
              "  </style>\n",
              "\n",
              "      <script>\n",
              "        const buttonEl =\n",
              "          document.querySelector('#df-48ca1c33-50f0-43c7-a5ce-e74321402320 button.colab-df-convert');\n",
              "        buttonEl.style.display =\n",
              "          google.colab.kernel.accessAllowed ? 'block' : 'none';\n",
              "\n",
              "        async function convertToInteractive(key) {\n",
              "          const element = document.querySelector('#df-48ca1c33-50f0-43c7-a5ce-e74321402320');\n",
              "          const dataTable =\n",
              "            await google.colab.kernel.invokeFunction('convertToInteractive',\n",
              "                                                     [key], {});\n",
              "          if (!dataTable) return;\n",
              "\n",
              "          const docLinkHtml = 'Like what you see? Visit the ' +\n",
              "            '<a target=\"_blank\" href=https://colab.research.google.com/notebooks/data_table.ipynb>data table notebook</a>'\n",
              "            + ' to learn more about interactive tables.';\n",
              "          element.innerHTML = '';\n",
              "          dataTable['output_type'] = 'display_data';\n",
              "          await google.colab.output.renderOutput(dataTable, element);\n",
              "          const docLink = document.createElement('div');\n",
              "          docLink.innerHTML = docLinkHtml;\n",
              "          element.appendChild(docLink);\n",
              "        }\n",
              "      </script>\n",
              "    </div>\n",
              "  </div>\n",
              "  "
            ]
          },
          "metadata": {},
          "execution_count": 25
        }
      ],
      "source": [
        "df_concat"
      ]
    },
    {
      "cell_type": "code",
      "execution_count": 26,
      "metadata": {
        "id": "NBEOpil55n68",
        "outputId": "2c2bffd2-0e99-47cd-c30e-f2e2694053cb",
        "colab": {
          "base_uri": "https://localhost:8080/"
        }
      },
      "outputs": [
        {
          "output_type": "execute_result",
          "data": {
            "text/plain": [
              "Brazil                    20\n",
              "Germany                   18\n",
              "Italy                     18\n",
              "Argentina                 16\n",
              "Mexico                    15\n",
              "                          ..\n",
              "Wales                      1\n",
              "Zaire                      1\n",
              "Haiti                      1\n",
              "German DR                  1\n",
              "Bosnia and Herzegovina     1\n",
              "Name: Name, Length: 81, dtype: int64"
            ]
          },
          "metadata": {},
          "execution_count": 26
        }
      ],
      "source": [
        "#Pegando os países com maiores participações.\n",
        "df_concat.reset_index()['Name'].value_counts()"
      ]
    },
    {
      "cell_type": "code",
      "execution_count": 27,
      "metadata": {
        "id": "A-afg8cN5n69"
      },
      "outputs": [],
      "source": [
        "part_teams = df_concat.reset_index()['Name'].value_counts()[:10]"
      ]
    },
    {
      "cell_type": "code",
      "execution_count": 28,
      "metadata": {
        "id": "kWkO6QQz5n69",
        "outputId": "1eaa1b3c-1cc2-4f9b-ee4c-4a5d2f3bfaa4",
        "colab": {
          "base_uri": "https://localhost:8080/",
          "height": 657
        }
      },
      "outputs": [
        {
          "output_type": "execute_result",
          "data": {
            "text/plain": [
              "Text(0.5, 1.0, 'Participações em Copa do Mundo')"
            ]
          },
          "metadata": {},
          "execution_count": 28
        },
        {
          "output_type": "display_data",
          "data": {
            "text/plain": [
              "<Figure size 1152x720 with 1 Axes>"
            ],
            "image/png": "[encoded data removed]"
          },
          "metadata": {
            "needs_background": "light"
          }
        }
      ],
      "source": [
        "plt.figure(figsize=(16,10))\n",
        "plt.barh(part_teams.index, part_teams.values, color='crimson', edgecolor='green', linewidth=4)\n",
        "\n",
        "xticks = np.arange(0, 21, 2)\n",
        "plt.grid(axis='x')\n",
        "plt.xticks(xticks, fontsize=15);\n",
        "plt.xlabel('Participações',fontsize=18)\n",
        "plt.yticks(fontsize=15);\n",
        "plt.ylabel('Países',fontsize=18)\n",
        "plt.title('Participações em Copa do Mundo',fontsize=20)"
      ]
    },
    {
      "cell_type": "markdown",
      "metadata": {
        "id": "jyhcGWAN5n69"
      },
      "source": [
        "- Quais são as seleções que mais jogaram na Copa do Mundo?"
      ]
    },
    {
      "cell_type": "code",
      "execution_count": 29,
      "metadata": {
        "id": "MpoOiHjL5n69"
      },
      "outputs": [],
      "source": [
        "plays = df_concat.reset_index()"
      ]
    },
    {
      "cell_type": "code",
      "execution_count": 30,
      "metadata": {
        "id": "ER7K7tp75n6-"
      },
      "outputs": [],
      "source": [
        "total_plays = plays.groupby('Name').agg({'Total Matches': 'sum'}).sort_values(by='Total Matches', ascending=False)"
      ]
    },
    {
      "cell_type": "code",
      "execution_count": 31,
      "metadata": {
        "id": "xvzMsaZb5n6-"
      },
      "outputs": [],
      "source": [
        "top_10 = total_plays.iloc[:10,:]"
      ]
    },
    {
      "cell_type": "code",
      "execution_count": 31,
      "metadata": {
        "id": "dOPZVJhN5n6-"
      },
      "outputs": [],
      "source": []
    },
    {
      "cell_type": "code",
      "execution_count": 32,
      "metadata": {
        "id": "m2Qnh-Lr5n6-",
        "outputId": "5a426d1d-fcf0-4122-b552-00a59e414371",
        "colab": {
          "base_uri": "https://localhost:8080/",
          "height": 657
        }
      },
      "outputs": [
        {
          "output_type": "execute_result",
          "data": {
            "text/plain": [
              "Text(0.5, 1.0, 'Participações em Copa do Mundo')"
            ]
          },
          "metadata": {},
          "execution_count": 32
        },
        {
          "output_type": "display_data",
          "data": {
            "text/plain": [
              "<Figure size 1152x720 with 1 Axes>"
            ],
            "image/png": "[encoded data removed]"
          },
          "metadata": {
            "needs_background": "light"
          }
        }
      ],
      "source": [
        "plt.figure(figsize=(16,10))\n",
        "plt.barh(top_10.index, top_10['Total Matches'], color='orange', edgecolor='black', linewidth=3)\n",
        "\n",
        "xticks = np.arange(0, 121, 20)\n",
        "plt.grid(axis='x')\n",
        "plt.xticks(xticks, fontsize=15);\n",
        "plt.xlabel('Participações',fontsize=18)\n",
        "plt.yticks(fontsize=15);\n",
        "plt.ylabel('Países',fontsize=18)\n",
        "plt.title('Participações em Copa do Mundo',fontsize=20)"
      ]
    },
    {
      "cell_type": "markdown",
      "metadata": {
        "id": "lWPpb1is5n6-"
      },
      "source": [
        "- Quais são as seleções com as maiores quantidades de gols feitos?"
      ]
    },
    {
      "cell_type": "code",
      "execution_count": 33,
      "metadata": {
        "id": "2eCpKB5i5n6-"
      },
      "outputs": [],
      "source": [
        "home_goals = df.groupby(['Year', 'Home Team Name']).agg({'Home Team Goals':'sum'})\n",
        "away_goals = df.groupby(['Year', 'Away Team Name']).agg({'Away Team Goals':'sum'})"
      ]
    },
    {
      "cell_type": "code",
      "execution_count": 34,
      "metadata": {
        "id": "FDdN3riW5n6_"
      },
      "outputs": [],
      "source": [
        "home_goals = home_goals.reset_index().rename(columns={'Home Team Name': 'Name'}).set_index(['Year','Name'])\n",
        "away_goals = away_goals.reset_index().rename(columns={'Away Team Name': 'Name'}).set_index(['Year','Name'])\n",
        "\n",
        "total_goals = pd.concat([home_goals, away_goals], axis='columns')\n",
        "\n",
        "total_goals.fillna(0,inplace=True)\n",
        "\n",
        "total_goals['Total Goals'] = total_goals['Home Team Goals'] + total_goals['Away Team Goals']"
      ]
    },
    {
      "cell_type": "code",
      "execution_count": 35,
      "metadata": {
        "id": "SCQBgPza5n6_"
      },
      "outputs": [],
      "source": [
        "goals = total_goals.reset_index()\n",
        "team_goals = goals.groupby('Name').agg({'Total Goals':'sum'}).sort_values(by='Total Goals',ascending=False)"
      ]
    },
    {
      "cell_type": "code",
      "execution_count": 36,
      "metadata": {
        "id": "7ABA_UZo5n6_",
        "outputId": "66194e74-fe2c-4cf1-f0cc-ffe5d0dfc8e8",
        "colab": {
          "base_uri": "https://localhost:8080/",
          "height": 455
        }
      },
      "outputs": [
        {
          "output_type": "execute_result",
          "data": {
            "text/plain": [
              "                     Total Goals\n",
              "Name                            \n",
              "Germany                    224.0\n",
              "Brazil                     221.0\n",
              "Argentina                  131.0\n",
              "Italy                      128.0\n",
              "France                     106.0\n",
              "...                          ...\n",
              "Trinidad and Tobago          0.0\n",
              "China PR                     0.0\n",
              "Canada                       0.0\n",
              "Dutch East Indies            0.0\n",
              "Zaire                        0.0\n",
              "\n",
              "[81 rows x 1 columns]"
            ],
            "text/html": [
              "\n",
              "  <div id=\"df-f2e29ab8-a127-43d7-bda9-bcb97db20e92\">\n",
              "    <div class=\"colab-df-container\">\n",
              "      <div>\n",
              "<style scoped>\n",
              "    .dataframe tbody tr th:only-of-type {\n",
              "        vertical-align: middle;\n",
              "    }\n",
              "\n",
              "    .dataframe tbody tr th {\n",
              "        vertical-align: top;\n",
              "    }\n",
              "\n",
              "    .dataframe thead th {\n",
              "        text-align: right;\n",
              "    }\n",
              "</style>\n",
              "<table border=\"1\" class=\"dataframe\">\n",
              "  <thead>\n",
              "    <tr style=\"text-align: right;\">\n",
              "      <th></th>\n",
              "      <th>Total Goals</th>\n",
              "    </tr>\n",
              "    <tr>\n",
              "      <th>Name</th>\n",
              "      <th></th>\n",
              "    </tr>\n",
              "  </thead>\n",
              "  <tbody>\n",
              "    <tr>\n",
              "      <th>Germany</th>\n",
              "      <td>224.0</td>\n",
              "    </tr>\n",
              "    <tr>\n",
              "      <th>Brazil</th>\n",
              "      <td>221.0</td>\n",
              "    </tr>\n",
              "    <tr>\n",
              "      <th>Argentina</th>\n",
              "      <td>131.0</td>\n",
              "    </tr>\n",
              "    <tr>\n",
              "      <th>Italy</th>\n",
              "      <td>128.0</td>\n",
              "    </tr>\n",
              "    <tr>\n",
              "      <th>France</th>\n",
              "      <td>106.0</td>\n",
              "    </tr>\n",
              "    <tr>\n",
              "      <th>...</th>\n",
              "      <td>...</td>\n",
              "    </tr>\n",
              "    <tr>\n",
              "      <th>Trinidad and Tobago</th>\n",
              "      <td>0.0</td>\n",
              "    </tr>\n",
              "    <tr>\n",
              "      <th>China PR</th>\n",
              "      <td>0.0</td>\n",
              "    </tr>\n",
              "    <tr>\n",
              "      <th>Canada</th>\n",
              "      <td>0.0</td>\n",
              "    </tr>\n",
              "    <tr>\n",
              "      <th>Dutch East Indies</th>\n",
              "      <td>0.0</td>\n",
              "    </tr>\n",
              "    <tr>\n",
              "      <th>Zaire</th>\n",
              "      <td>0.0</td>\n",
              "    </tr>\n",
              "  </tbody>\n",
              "</table>\n",
              "<p>81 rows × 1 columns</p>\n",
              "</div>\n",
              "      <button class=\"colab-df-convert\" onclick=\"convertToInteractive('df-f2e29ab8-a127-43d7-bda9-bcb97db20e92')\"\n",
              "              title=\"Convert this dataframe to an interactive table.\"\n",
              "              style=\"display:none;\">\n",
              "        \n",
              "  <svg xmlns=\"http://www.w3.org/2000/svg\" height=\"24px\"viewBox=\"0 0 24 24\"\n",
              "       width=\"24px\">\n",
              "    <path d=\"M0 0h24v24H0V0z\" fill=\"none\"/>\n",
              "    <path d=\"M18.56 5.44l.94 2.06.94-2.06 2.06-.94-2.06-.94-.94-2.06-.94 2.06-2.06.94zm-11 1L8.5 8.5l.94-2.06 2.06-.94-2.06-.94L8.5 2.5l-.94 2.06-2.06.94zm10 10l.94 2.06.94-2.06 2.06-.94-2.06-.94-.94-2.06-.94 2.06-2.06.94z\"/><path d=\"M17.41 7.96l-1.37-1.37c-.4-.4-.92-.59-1.43-.59-.52 0-1.04.2-1.43.59L10.3 9.45l-7.72 7.72c-.78.78-.78 2.05 0 2.83L4 21.41c.39.39.9.59 1.41.59.51 0 1.02-.2 1.41-.59l7.78-7.78 2.81-2.81c.8-.78.8-2.07 0-2.86zM5.41 20L4 18.59l7.72-7.72 1.47 1.35L5.41 20z\"/>\n",
              "  </svg>\n",
              "      </button>\n",
              "      \n",
              "  <style>\n",
              "    .colab-df-container {\n",
              "      display:flex;\n",
              "      flex-wrap:wrap;\n",
              "      gap: 12px;\n",
              "    }\n",
              "\n",
              "    .colab-df-convert {\n",
              "      background-color: #E8F0FE;\n",
              "      border: none;\n",
              "      border-radius: 50%;\n",
              "      cursor: pointer;\n",
              "      display: none;\n",
              "      fill: #1967D2;\n",
              "      height: 32px;\n",
              "      padding: 0 0 0 0;\n",
              "      width: 32px;\n",
              "    }\n",
              "\n",
              "    .colab-df-convert:hover {\n",
              "      background-color: #E2EBFA;\n",
              "      box-shadow: 0px 1px 2px rgba(60, 64, 67, 0.3), 0px 1px 3px 1px rgba(60, 64, 67, 0.15);\n",
              "      fill: #174EA6;\n",
              "    }\n",
              "\n",
              "    [theme=dark] .colab-df-convert {\n",
              "      background-color: #3B4455;\n",
              "      fill: #D2E3FC;\n",
              "    }\n",
              "\n",
              "    [theme=dark] .colab-df-convert:hover {\n",
              "      background-color: #434B5C;\n",
              "      box-shadow: 0px 1px 3px 1px rgba(0, 0, 0, 0.15);\n",
              "      filter: drop-shadow(0px 1px 2px rgba(0, 0, 0, 0.3));\n",
              "      fill: #FFFFFF;\n",
              "    }\n",
              "  </style>\n",
              "\n",
              "      <script>\n",
              "        const buttonEl =\n",
              "          document.querySelector('#df-f2e29ab8-a127-43d7-bda9-bcb97db20e92 button.colab-df-convert');\n",
              "        buttonEl.style.display =\n",
              "          google.colab.kernel.accessAllowed ? 'block' : 'none';\n",
              "\n",
              "        async function convertToInteractive(key) {\n",
              "          const element = document.querySelector('#df-f2e29ab8-a127-43d7-bda9-bcb97db20e92');\n",
              "          const dataTable =\n",
              "            await google.colab.kernel.invokeFunction('convertToInteractive',\n",
              "                                                     [key], {});\n",
              "          if (!dataTable) return;\n",
              "\n",
              "          const docLinkHtml = 'Like what you see? Visit the ' +\n",
              "            '<a target=\"_blank\" href=https://colab.research.google.com/notebooks/data_table.ipynb>data table notebook</a>'\n",
              "            + ' to learn more about interactive tables.';\n",
              "          element.innerHTML = '';\n",
              "          dataTable['output_type'] = 'display_data';\n",
              "          await google.colab.output.renderOutput(dataTable, element);\n",
              "          const docLink = document.createElement('div');\n",
              "          docLink.innerHTML = docLinkHtml;\n",
              "          element.appendChild(docLink);\n",
              "        }\n",
              "      </script>\n",
              "    </div>\n",
              "  </div>\n",
              "  "
            ]
          },
          "metadata": {},
          "execution_count": 36
        }
      ],
      "source": [
        "team_goals"
      ]
    },
    {
      "cell_type": "code",
      "execution_count": 37,
      "metadata": {
        "id": "zflzoDpz5n6_"
      },
      "outputs": [],
      "source": [
        "top_10_scores = team_goals.iloc[:10,:]"
      ]
    },
    {
      "cell_type": "code",
      "execution_count": 38,
      "metadata": {
        "id": "2UNSs0yt5n6_",
        "outputId": "5df15c69-e41c-4238-8d8e-f3c433ed33d2",
        "colab": {
          "base_uri": "https://localhost:8080/",
          "height": 657
        }
      },
      "outputs": [
        {
          "output_type": "execute_result",
          "data": {
            "text/plain": [
              "Text(0.5, 1.0, 'Participações em Copa do Mundo')"
            ]
          },
          "metadata": {},
          "execution_count": 38
        },
        {
          "output_type": "display_data",
          "data": {
            "text/plain": [
              "<Figure size 1152x720 with 1 Axes>"
            ],
            "image/png": "[encoded data removed]"
          },
          "metadata": {
            "needs_background": "light"
          }
        }
      ],
      "source": [
        "plt.figure(figsize=(16,10))\n",
        "plt.barh(top_10_scores.index, top_10_scores['Total Goals'], color='orange', edgecolor='black', linewidth=3)\n",
        "\n",
        "xticks = np.arange(0, 250, 20)\n",
        "plt.grid(axis='x')\n",
        "plt.xticks(xticks, fontsize=15);\n",
        "plt.xlabel('Participações',fontsize=18)\n",
        "plt.yticks(fontsize=15);\n",
        "plt.ylabel('Países',fontsize=18)\n",
        "plt.title('Participações em Copa do Mundo',fontsize=20)"
      ]
    },
    {
      "cell_type": "markdown",
      "metadata": {
        "id": "L-Td3Ju75n6_"
      },
      "source": [
        "- Qual é o retrospecto do Brasil na Copa? (Vitória, Empate e Derrota)"
      ]
    },
    {
      "cell_type": "code",
      "execution_count": 39,
      "metadata": {
        "id": "MtwWtXs45n7A"
      },
      "outputs": [],
      "source": [
        "df_brazil = df[(df['Home Team Name'] == 'Brazil') | (df['Away Team Name'] == 'Brazil')]"
      ]
    },
    {
      "cell_type": "code",
      "execution_count": 40,
      "metadata": {
        "id": "si2Dpyxy5n7A",
        "colab": {
          "base_uri": "https://localhost:8080/"
        },
        "outputId": "e9156e3d-d460-4479-f60e-fd5113a483fa"
      },
      "outputs": [
        {
          "output_type": "stream",
          "name": "stderr",
          "text": [
            "/usr/local/lib/python3.8/dist-packages/pandas/core/indexing.py:1817: SettingWithCopyWarning: \n",
            "A value is trying to be set on a copy of a slice from a DataFrame.\n",
            "Try using .loc[row_indexer,col_indexer] = value instead\n",
            "\n",
            "See the caveats in the documentation: https://pandas.pydata.org/pandas-docs/stable/user_guide/indexing.html#returning-a-view-versus-a-copy\n",
            "  self._setitem_single_column(loc, value, pi)\n"
          ]
        }
      ],
      "source": [
        "df_brazil.loc[df_brazil['Winner'] == 'Brazil','Winner'] = 'Win'"
      ]
    },
    {
      "cell_type": "code",
      "execution_count": 41,
      "metadata": {
        "id": "GC6Ewxxt5n7A"
      },
      "outputs": [],
      "source": [
        "df_brazil.loc[~df_brazil['Winner'].isin(['Win','Tie']),'Winner'] = 'Lose'"
      ]
    },
    {
      "cell_type": "code",
      "execution_count": 42,
      "metadata": {
        "id": "XRS6O5cV5n7A"
      },
      "outputs": [],
      "source": [
        "recap = df_brazil['Winner'].value_counts()"
      ]
    },
    {
      "cell_type": "code",
      "execution_count": 43,
      "metadata": {
        "id": "R409XaK45n7A",
        "outputId": "09b73f0a-6fdc-435c-f267-454dec88d6e1",
        "colab": {
          "base_uri": "https://localhost:8080/",
          "height": 919
        }
      },
      "outputs": [
        {
          "output_type": "execute_result",
          "data": {
            "text/plain": [
              "<matplotlib.legend.Legend at 0x7fb836710190>"
            ]
          },
          "metadata": {},
          "execution_count": 43
        },
        {
          "output_type": "display_data",
          "data": {
            "text/plain": [
              "<Figure size 1152x1152 with 1 Axes>"
            ],
            "image/png": "[encoded data removed]"
          },
          "metadata": {}
        }
      ],
      "source": [
        "plt.figure(figsize=(16,16))\n",
        "colors = ['green','yellow','blue']\n",
        "\n",
        "wedgeprops={\"edgecolor\":\"white\",'linewidth': 2, 'antialiased': True}\n",
        "\n",
        "\n",
        "plt.pie(recap.values, autopct='%.2f%%', colors=colors, wedgeprops=wedgeprops,textprops={'fontsize': 18, 'color':'black'});\n",
        "\n",
        "plt.legend(recap.index, prop={'size':25})"
      ]
    },
    {
      "cell_type": "markdown",
      "metadata": {
        "id": "qSHQHSdA5n7A"
      },
      "source": [
        "- Quais foram as partidas com a maior quantidade de gols?\n",
        "\n",
        "- Como a média de espectadores mudou com o passar das edições?\n",
        "\n",
        "- Quais estádios tiveram a maior quantidade de espectadores?"
      ]
    },
    {
      "cell_type": "code",
      "execution_count": 44,
      "metadata": {
        "id": "i0G3jrQV5n7B",
        "outputId": "0ec50a70-ab06-4e8d-d5ff-c53c31cbe15a",
        "colab": {
          "base_uri": "https://localhost:8080/"
        }
      },
      "outputs": [
        {
          "output_type": "execute_result",
          "data": {
            "text/plain": [
              "Index(['Year', 'Datetime', 'Stage', 'Stadium', 'City', 'Home Team Name',\n",
              "       'Home Team Goals', 'Away Team Goals', 'Away Team Name',\n",
              "       'Win conditions', 'Attendance', 'Half-time Home Goals',\n",
              "       'Half-time Away Goals', 'Referee', 'Assistant 1', 'Assistant 2',\n",
              "       'RoundID', 'MatchID', 'Home Team Initials', 'Away Team Initials',\n",
              "       'Winner'],\n",
              "      dtype='object')"
            ]
          },
          "metadata": {},
          "execution_count": 44
        }
      ],
      "source": [
        "df.columns"
      ]
    },
    {
      "cell_type": "code",
      "execution_count": 45,
      "metadata": {
        "id": "ETDsHlYZ5n7B"
      },
      "outputs": [],
      "source": [
        "espect = df.groupby('Year').agg({'Attendance':'sum'})"
      ]
    },
    {
      "cell_type": "code",
      "execution_count": 45,
      "metadata": {
        "id": "Dcvwq8UL5n7B"
      },
      "outputs": [],
      "source": []
    },
    {
      "cell_type": "code",
      "execution_count": 46,
      "metadata": {
        "id": "BJ0SvFfA5n7B",
        "outputId": "6de02c85-7069-4d44-9821-017917ed4407",
        "colab": {
          "base_uri": "https://localhost:8080/",
          "height": 707
        }
      },
      "outputs": [
        {
          "output_type": "execute_result",
          "data": {
            "text/plain": [
              "        Attendance\n",
              "Year              \n",
              "1930.0    590549.0\n",
              "1934.0    363000.0\n",
              "1938.0    375700.0\n",
              "1950.0   1045246.0\n",
              "1954.0    768607.0\n",
              "1958.0    819810.0\n",
              "1962.0    893172.0\n",
              "1966.0   1563135.0\n",
              "1970.0   1603975.0\n",
              "1974.0   1865753.0\n",
              "1978.0   1545791.0\n",
              "1982.0   2109723.0\n",
              "1986.0   2394031.0\n",
              "1990.0   2516215.0\n",
              "1994.0   3587538.0\n",
              "1998.0   2785100.0\n",
              "2002.0   2705197.0\n",
              "2006.0   3359439.0\n",
              "2010.0   3178856.0\n",
              "2014.0   3386810.0"
            ],
            "text/html": [
              "\n",
              "  <div id=\"df-91e1e340-c283-4fc4-93ce-b9a6a41c0969\">\n",
              "    <div class=\"colab-df-container\">\n",
              "      <div>\n",
              "<style scoped>\n",
              "    .dataframe tbody tr th:only-of-type {\n",
              "        vertical-align: middle;\n",
              "    }\n",
              "\n",
              "    .dataframe tbody tr th {\n",
              "        vertical-align: top;\n",
              "    }\n",
              "\n",
              "    .dataframe thead th {\n",
              "        text-align: right;\n",
              "    }\n",
              "</style>\n",
              "<table border=\"1\" class=\"dataframe\">\n",
              "  <thead>\n",
              "    <tr style=\"text-align: right;\">\n",
              "      <th></th>\n",
              "      <th>Attendance</th>\n",
              "    </tr>\n",
              "    <tr>\n",
              "      <th>Year</th>\n",
              "      <th></th>\n",
              "    </tr>\n",
              "  </thead>\n",
              "  <tbody>\n",
              "    <tr>\n",
              "      <th>1930.0</th>\n",
              "      <td>590549.0</td>\n",
              "    </tr>\n",
              "    <tr>\n",
              "      <th>1934.0</th>\n",
              "      <td>363000.0</td>\n",
              "    </tr>\n",
              "    <tr>\n",
              "      <th>1938.0</th>\n",
              "      <td>375700.0</td>\n",
              "    </tr>\n",
              "    <tr>\n",
              "      <th>1950.0</th>\n",
              "      <td>1045246.0</td>\n",
              "    </tr>\n",
              "    <tr>\n",
              "      <th>1954.0</th>\n",
              "      <td>768607.0</td>\n",
              "    </tr>\n",
              "    <tr>\n",
              "      <th>1958.0</th>\n",
              "      <td>819810.0</td>\n",
              "    </tr>\n",
              "    <tr>\n",
              "      <th>1962.0</th>\n",
              "      <td>893172.0</td>\n",
              "    </tr>\n",
              "    <tr>\n",
              "      <th>1966.0</th>\n",
              "      <td>1563135.0</td>\n",
              "    </tr>\n",
              "    <tr>\n",
              "      <th>1970.0</th>\n",
              "      <td>1603975.0</td>\n",
              "    </tr>\n",
              "    <tr>\n",
              "      <th>1974.0</th>\n",
              "      <td>1865753.0</td>\n",
              "    </tr>\n",
              "    <tr>\n",
              "      <th>1978.0</th>\n",
              "      <td>1545791.0</td>\n",
              "    </tr>\n",
              "    <tr>\n",
              "      <th>1982.0</th>\n",
              "      <td>2109723.0</td>\n",
              "    </tr>\n",
              "    <tr>\n",
              "      <th>1986.0</th>\n",
              "      <td>2394031.0</td>\n",
              "    </tr>\n",
              "    <tr>\n",
              "      <th>1990.0</th>\n",
              "      <td>2516215.0</td>\n",
              "    </tr>\n",
              "    <tr>\n",
              "      <th>1994.0</th>\n",
              "      <td>3587538.0</td>\n",
              "    </tr>\n",
              "    <tr>\n",
              "      <th>1998.0</th>\n",
              "      <td>2785100.0</td>\n",
              "    </tr>\n",
              "    <tr>\n",
              "      <th>2002.0</th>\n",
              "      <td>2705197.0</td>\n",
              "    </tr>\n",
              "    <tr>\n",
              "      <th>2006.0</th>\n",
              "      <td>3359439.0</td>\n",
              "    </tr>\n",
              "    <tr>\n",
              "      <th>2010.0</th>\n",
              "      <td>3178856.0</td>\n",
              "    </tr>\n",
              "    <tr>\n",
              "      <th>2014.0</th>\n",
              "      <td>3386810.0</td>\n",
              "    </tr>\n",
              "  </tbody>\n",
              "</table>\n",
              "</div>\n",
              "      <button class=\"colab-df-convert\" onclick=\"convertToInteractive('df-91e1e340-c283-4fc4-93ce-b9a6a41c0969')\"\n",
              "              title=\"Convert this dataframe to an interactive table.\"\n",
              "              style=\"display:none;\">\n",
              "        \n",
              "  <svg xmlns=\"http://www.w3.org/2000/svg\" height=\"24px\"viewBox=\"0 0 24 24\"\n",
              "       width=\"24px\">\n",
              "    <path d=\"M0 0h24v24H0V0z\" fill=\"none\"/>\n",
              "    <path d=\"M18.56 5.44l.94 2.06.94-2.06 2.06-.94-2.06-.94-.94-2.06-.94 2.06-2.06.94zm-11 1L8.5 8.5l.94-2.06 2.06-.94-2.06-.94L8.5 2.5l-.94 2.06-2.06.94zm10 10l.94 2.06.94-2.06 2.06-.94-2.06-.94-.94-2.06-.94 2.06-2.06.94z\"/><path d=\"M17.41 7.96l-1.37-1.37c-.4-.4-.92-.59-1.43-.59-.52 0-1.04.2-1.43.59L10.3 9.45l-7.72 7.72c-.78.78-.78 2.05 0 2.83L4 21.41c.39.39.9.59 1.41.59.51 0 1.02-.2 1.41-.59l7.78-7.78 2.81-2.81c.8-.78.8-2.07 0-2.86zM5.41 20L4 18.59l7.72-7.72 1.47 1.35L5.41 20z\"/>\n",
              "  </svg>\n",
              "      </button>\n",
              "      \n",
              "  <style>\n",
              "    .colab-df-container {\n",
              "      display:flex;\n",
              "      flex-wrap:wrap;\n",
              "      gap: 12px;\n",
              "    }\n",
              "\n",
              "    .colab-df-convert {\n",
              "      background-color: #E8F0FE;\n",
              "      border: none;\n",
              "      border-radius: 50%;\n",
              "      cursor: pointer;\n",
              "      display: none;\n",
              "      fill: #1967D2;\n",
              "      height: 32px;\n",
              "      padding: 0 0 0 0;\n",
              "      width: 32px;\n",
              "    }\n",
              "\n",
              "    .colab-df-convert:hover {\n",
              "      background-color: #E2EBFA;\n",
              "      box-shadow: 0px 1px 2px rgba(60, 64, 67, 0.3), 0px 1px 3px 1px rgba(60, 64, 67, 0.15);\n",
              "      fill: #174EA6;\n",
              "    }\n",
              "\n",
              "    [theme=dark] .colab-df-convert {\n",
              "      background-color: #3B4455;\n",
              "      fill: #D2E3FC;\n",
              "    }\n",
              "\n",
              "    [theme=dark] .colab-df-convert:hover {\n",
              "      background-color: #434B5C;\n",
              "      box-shadow: 0px 1px 3px 1px rgba(0, 0, 0, 0.15);\n",
              "      filter: drop-shadow(0px 1px 2px rgba(0, 0, 0, 0.3));\n",
              "      fill: #FFFFFF;\n",
              "    }\n",
              "  </style>\n",
              "\n",
              "      <script>\n",
              "        const buttonEl =\n",
              "          document.querySelector('#df-91e1e340-c283-4fc4-93ce-b9a6a41c0969 button.colab-df-convert');\n",
              "        buttonEl.style.display =\n",
              "          google.colab.kernel.accessAllowed ? 'block' : 'none';\n",
              "\n",
              "        async function convertToInteractive(key) {\n",
              "          const element = document.querySelector('#df-91e1e340-c283-4fc4-93ce-b9a6a41c0969');\n",
              "          const dataTable =\n",
              "            await google.colab.kernel.invokeFunction('convertToInteractive',\n",
              "                                                     [key], {});\n",
              "          if (!dataTable) return;\n",
              "\n",
              "          const docLinkHtml = 'Like what you see? Visit the ' +\n",
              "            '<a target=\"_blank\" href=https://colab.research.google.com/notebooks/data_table.ipynb>data table notebook</a>'\n",
              "            + ' to learn more about interactive tables.';\n",
              "          element.innerHTML = '';\n",
              "          dataTable['output_type'] = 'display_data';\n",
              "          await google.colab.output.renderOutput(dataTable, element);\n",
              "          const docLink = document.createElement('div');\n",
              "          docLink.innerHTML = docLinkHtml;\n",
              "          element.appendChild(docLink);\n",
              "        }\n",
              "      </script>\n",
              "    </div>\n",
              "  </div>\n",
              "  "
            ]
          },
          "metadata": {},
          "execution_count": 46
        }
      ],
      "source": [
        "espect"
      ]
    },
    {
      "cell_type": "code",
      "execution_count": 47,
      "metadata": {
        "id": "XcxZSQvo5n7B"
      },
      "outputs": [],
      "source": [
        "espect.loc[1942,'Attendance'] = 0\n",
        "espect.loc[1946,'Attendance'] = 0"
      ]
    },
    {
      "cell_type": "code",
      "execution_count": 48,
      "metadata": {
        "id": "K2hQ-Gog5n7B"
      },
      "outputs": [],
      "source": [
        "espect = espect.sort_index()"
      ]
    },
    {
      "cell_type": "code",
      "execution_count": 49,
      "metadata": {
        "id": "fUtwtASt5n7C"
      },
      "outputs": [],
      "source": [
        "list_hosts = ['Uruguay','Italy','NA','NA','France','Brazil','Switzerland','Sweden','Chile','England','Mexico','Germany','Argentina','Spain','Mexico','Italy','United States','France','Japan/Korea','Germany','South Africa','Brazil']"
      ]
    },
    {
      "cell_type": "code",
      "execution_count": 50,
      "metadata": {
        "id": "YbLgV3MW5n7C",
        "outputId": "5688a025-5662-4933-9aa2-a032f1235582",
        "colab": {
          "base_uri": "https://localhost:8080/",
          "height": 623
        }
      },
      "outputs": [
        {
          "output_type": "display_data",
          "data": {
            "text/plain": [
              "<Figure size 2304x1080 with 1 Axes>"
            ],
            "image/png": "[encoded data removed]"
          },
          "metadata": {
            "needs_background": "light"
          }
        }
      ],
      "source": [
        "plt.figure(figsize=(32,15))\n",
        "plt.plot(espect.index, espect['Attendance'], linewidth=5)\n",
        "plt.plot(espect.index, espect['Attendance'], 'o', markersize=10)\n",
        "\n",
        "yvals = np.arange(500000, 4000000, 500000)\n",
        "plt.yticks(yvals, ['500K','1M', '1.5M', '2M', '2.5M', '3M', '3.5M'], fontsize=18);\n",
        "xvals = np.arange(1930, 2018, 4)\n",
        "\n",
        "xalias = [hosts + ', ' + str(edition) for hosts,edition in zip(list_hosts, xvals)]\n",
        "\n",
        "plt.xticks(xvals, xalias, rotation=60, fontsize=18);\n",
        "plt.grid(linewidth=2)\n",
        "plt.ylim([0,4000000]);\n"
      ]
    },
    {
      "cell_type": "code",
      "execution_count": 50,
      "metadata": {
        "id": "MMufwh_G5n7C"
      },
      "outputs": [],
      "source": []
    }
  ],
  "metadata": {
    "kernelspec": {
      "display_name": "Python 3.10.4 64-bit",
      "language": "python",
      "name": "python3"
    },
    "language_info": {
      "codemirror_mode": {
        "name": "ipython",
        "version": 3
      },
      "file_extension": ".py",
      "mimetype": "text/x-python",
      "name": "python",
      "nbconvert_exporter": "python",
      "pygments_lexer": "ipython3",
      "version": "3.10.4"
    },
    "orig_nbformat": 4,
    "vscode": {
      "interpreter": {
        "hash": "d044c6e0ce06759120adefce77398d00e1228e64d92f3f185fbd024a7701b8e0"
      }
    },
    "colab": {
      "provenance": [],
      "include_colab_link": true
    }
  },
  "nbformat": 4,
  "nbformat_minor": 0
}